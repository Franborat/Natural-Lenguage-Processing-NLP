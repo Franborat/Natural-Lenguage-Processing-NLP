{
 "cells": [
  {
   "cell_type": "markdown",
   "metadata": {},
   "source": [
    "## Load required libraries"
   ]
  },
  {
   "cell_type": "code",
   "execution_count": 1,
   "metadata": {},
   "outputs": [
    {
     "name": "stderr",
     "output_type": "stream",
     "text": [
      "Loading required package: XML\n",
      "Loading required package: RCurl\n",
      "Loading required package: bitops\n",
      "\n",
      "Attaching package: ‘RCurl’\n",
      "\n",
      "The following object is masked from ‘package:rJava’:\n",
      "\n",
      "    clone\n",
      "\n"
     ]
    }
   ],
   "source": [
    "# Needed for OutOfMemoryError: Java heap space \n",
    "library(rJava)\n",
    ".jinit(parameters=\"-Xmx4g\")\n",
    "# If there are more memory problems, invoke gc() after the POS tagging\n",
    "\n",
    "library(NLP)\n",
    "library(openNLP) \n",
    "library(openNLPmodels.en)\n",
    "library(tm)\n",
    "library(stringr)\n",
    "library(SPARQL)\n",
    "library(parallel)"
   ]
  },
  {
   "cell_type": "markdown",
   "metadata": {},
   "source": [
    "## Auxiliary Functions"
   ]
  },
  {
   "cell_type": "code",
   "execution_count": 2,
   "metadata": {},
   "outputs": [],
   "source": [
    "# Returns annotations for the text document: word, sentence, part-of-speech, and Penn Treebank parse annotations\n",
    "\n",
    "getAnnotationsFromDocument = function(doc){\n",
    "  x=as.String(doc)\n",
    "  sent_token_annotator <- Maxent_Sent_Token_Annotator()\n",
    "  word_token_annotator <- Maxent_Word_Token_Annotator()\n",
    "  pos_tag_annotator <- Maxent_POS_Tag_Annotator()\n",
    "  y1 <- annotate(x, list(sent_token_annotator, word_token_annotator))\n",
    "  y2 <- annotate(x, pos_tag_annotator, y1)\n",
    "  # parse_annotator <- Parse_Annotator()\n",
    "  # y3 <- annotate(x, parse_annotator, y2)\n",
    "  return(y2)  \n",
    "} \n",
    "\n",
    "# Returns the text document merged with the annotations\n",
    "\n",
    "getAnnotatedMergedDocument = function(doc,annotations){\n",
    "  x=as.String(doc)\n",
    "  y2w <- subset(annotations, type == \"word\")\n",
    "  tags <- sapply(y2w$features, '[[', \"POS\")\n",
    "  r1 <- sprintf(\"%s/%s\", x[y2w], tags)\n",
    "  r2 <- paste(r1, collapse = \" \")\n",
    "  return(r2)  \n",
    "} \n",
    "\n",
    "# Returns the text document along with its annotations in an AnnotatedPlainTextDocument\n",
    "\n",
    "getAnnotatedPlainTextDocument = function(doc,annotations){\n",
    "  x=as.String(doc)\n",
    "  a = AnnotatedPlainTextDocument(x,annotations)\n",
    "  return(a)  \n",
    "} \n",
    "\n",
    "# detectPatternOnDocument returns the pattern detected on an AnnotatedPlainTextDocument\n",
    "\n",
    "detectPatternOnDocument <- function(doc, pattern) {\n",
    "  x=as.String(doc)\n",
    "  res=str_match(x,pattern)\n",
    "  \n",
    "  if (length(res)==1){\n",
    "    return (res)\n",
    "  } else {\n",
    "    if (all(is.na(res[,2:length(res)])))\n",
    "      return (NA)\n",
    "    else {\n",
    "      ret=list()\n",
    "      for (i in 2:length(res)){\n",
    "        ret = paste(ret,res[i])\n",
    "      }\n",
    "      return(ret)\n",
    "    }\n",
    "  }\n",
    "}\n",
    "\n",
    "# detectPatternOnDocumentWithContext returns the pattern detected on an AnnotatedPlainTextDocument with some context.\n",
    "\n",
    "detectPatternOnDocumentWithContext <- function(doc, pattern) {\n",
    "  txt=as.String(doc)\n",
    "  number=50\n",
    "  coord=str_locate(txt,pattern)\n",
    "  res3=substr(txt,coord[1]-number,coord[2]+number)\n",
    "  return (res3)\n",
    "}\n",
    "\n",
    "# detectPatternsInCorpus returns a data frame with all the patterns detected in a corpus.\n",
    "\n",
    "detectPatternsInCorpus = function(corpus, patterns){\n",
    "  vallEntities <- data.frame(matrix(NA, ncol = length(patterns)+1, \n",
    "                                    nrow = length(corpus)))\n",
    "  names(vallEntities) <- c(\"File\",patterns)\n",
    "  for (i in 1:length(patterns)) {\n",
    "    vallEntities[,i+1]=unlist(lapply(corpus, detectPatternOnDocument, \n",
    "                                     pattern=patterns[i]))\n",
    "  }\n",
    "  for (i in 1:length(corpus)) {\n",
    "    vallEntities$File[i]=meta(corpus[[i]])$id\n",
    "  }\n",
    "  return (vallEntities)  \n",
    "}\n",
    "\n",
    "# detectPatternsInTaggedCorpus returns a data frame with all the patterns detected in an annotated corpus.\n",
    "\n",
    "detectPatternsInTaggedCorpus = function(corpus, taggedCorpus, patterns){\n",
    "  vallEntities <- data.frame(matrix(NA, ncol = length(patterns)+1, \n",
    "                                    nrow = length(corpus)))\n",
    "  names(vallEntities) <- c(\"File\",patterns)\n",
    "  for (i in 1:length(patterns)) {\n",
    "    vallEntities[,i+1]=unlist(lapply(taggedCorpus, detectPatternOnDocument, \n",
    "                                     pattern=patterns[i]))\n",
    "  }\n",
    "  for (i in 1:length(corpus)) {\n",
    "    vallEntities$File[i]=meta(corpus[[i]])$id\n",
    "  }\n",
    "  return (vallEntities)  \n",
    "}\n",
    "\n",
    "# countMatchesPerColumn returns the number of matches per pattern/column. Counts the number of columns with non-NA values for each pattern.\n",
    "\n",
    "countMatchesPerColumn = function (df) {\n",
    "  entityCountPerPattern <- data.frame(matrix(NA, ncol = 2, \n",
    "                                             nrow = length(names(df))-1))\n",
    "  names(entityCountPerPattern) <- c(\"Entity\",\"Count\")\n",
    "  \n",
    "  for (i in 2:length(names(df))) {\n",
    "    entityCountPerPattern$Entity[i-1] = names(df)[i]\n",
    "    entityCountPerPattern$Count[i-1] = nrow(subset(df, !is.na(df[i])))\n",
    "  }\n",
    "  return (entityCountPerPattern)\n",
    "}\n",
    "\n",
    "# countMatchesPerRow returns the number of entities per file/row. Counts the number of rows with non-NA values for each file.\n",
    "\n",
    "countMatchesPerRow = function (df) {\n",
    "  entityCountPerFile <- data.frame(matrix(NA, ncol = 2, nrow = nrow(df)))\n",
    "  names(entityCountPerFile) <- c(\"File\",\"Count\")\n",
    "  \n",
    "  for (i in 1:nrow(df)) {\n",
    "    entityCountPerFile$File[i] = df$File[i]\n",
    "    entityCountPerFile$Count[i] = length(Filter(Negate(is.na),df[i,2:length(df[i,])]))\n",
    "  }\n",
    "  return (entityCountPerFile[entityCountPerFile[2]!=0,])\n",
    "}\n",
    "\n",
    "# printMatchesPerPattern prints the matches found per pattern.\n",
    "\n",
    "printMatchesPerPattern = function (patterns, matches) {\n",
    "  for (i in 1:length(patterns)){\n",
    "    print(paste(\"PATTERN: \",patterns[i]))\n",
    "    strings = matches[,i+1][!is.na(unlist(matches[,i+1]))]\n",
    "    print(strings)\n",
    "    print(\" \") \n",
    "  }\n",
    "}\n",
    "\n",
    "# mergeAllMatchesInLists returns a data frame with all the files and their matches in a single list per file.\n",
    "\n",
    "mergeAllMatchesInLists = function (df) {\n",
    "  matchesPerFile = rep(list(list()), nrow(df))\n",
    "  \n",
    "  for (i in 1:nrow(df)) {    \n",
    "    matches=as.list(unname(unlist(Filter(Negate(is.na),df[i,2:length(df[i,])]))))\n",
    "    matchesPerFile[[i]]=append(matchesPerFile[[i]],matches)\n",
    "  }\n",
    "  \n",
    "  files = df[,1]\n",
    "  matches = matchesPerFile\n",
    "  \n",
    "  allMatches<- data.frame(matrix(NA, ncol = 2, nrow = nrow(df)))\n",
    "  names(allMatches) <- c(\"Files\",\"Matches\")\n",
    "  \n",
    "  allMatches$Files=files\n",
    "  allMatches$Matches=matches\n",
    "  \n",
    "  return (allMatches)\n",
    "}\n",
    "\n",
    "# mergeGoldStandardInLists returns a data frame with all the files and the gold standard matches in a single list per file.\n",
    "\n",
    "mergeGoldStandardInLists = function (df) {\n",
    "  matchesPerFile = rep(list(list()), nrow(df))\n",
    "  \n",
    "  for (i in 1:nrow(df)) {    \n",
    "    matches=as.list(unlist(Filter(Negate(is.na),df[i,2:length(df)])))\n",
    "    matchesPerFile[[i]]=append(matchesPerFile[[i]],matches)\n",
    "  }\n",
    "  \n",
    "  files = df[,1]\n",
    "  matches = matchesPerFile\n",
    "  \n",
    "  allMatches<- data.frame(matrix(NA, ncol = 2, nrow = nrow(df)))\n",
    "  names(allMatches) <- c(\"Files\",\"Matches\")\n",
    "  \n",
    "  allMatches$Files=files\n",
    "  allMatches$Matches=matches\n",
    "  \n",
    "  return (allMatches)\n",
    "}\n",
    "\n",
    "# calculateMetrics calculates precision, recall and f-measure according to a gold standard.\n",
    "\n",
    "calculateMetrics = function (matches, matches.gs) {\n",
    "  \n",
    "  metrics<- data.frame(matrix(NA, ncol = 3, nrow = 1))\n",
    "  names(metrics) <- c(\"Precision\",\"Recall\",\"Fmeasure\")\n",
    "  \n",
    "  numCorrect = 0\n",
    "  allAnswers = 0\n",
    "  possibleAnswers = 0\n",
    "  \n",
    "  for (i in 1:nrow(matches)) {    \n",
    "    if (length(matches.gs$Matches[[i]])!=0) {\n",
    "      l = str_trim(unlist(matches[i,2]))\n",
    "      l.gs = unname(unlist(matches.gs[i,2]))\n",
    "      intersection = intersect(l, l.gs)\n",
    "      numCorrect = numCorrect + length(intersect(l, l.gs))\n",
    "      allAnswers = allAnswers + length (l)\n",
    "      possibleAnswers = possibleAnswers + length(l.gs)    \n",
    "    }\n",
    "  }\n",
    "  \n",
    "  metrics$Precision = numCorrect / allAnswers\n",
    "  metrics$Recall = numCorrect / possibleAnswers\n",
    "  \n",
    "  beta = 1\n",
    "  metrics$Fmeasure= ((sqrt(beta)+1) * metrics$Precision * metrics$Recall) / \n",
    "    ((sqrt(beta)*metrics$Precision) + metrics$Recall)\n",
    "  \n",
    "  return(metrics)\n",
    "}"
   ]
  },
  {
   "cell_type": "markdown",
   "metadata": {},
   "source": [
    "## Load the corpus"
   ]
  },
  {
   "cell_type": "code",
   "execution_count": 3,
   "metadata": {},
   "outputs": [],
   "source": [
    "source.pos = DirSource(\"/Users/franlosada/Documents/EIT 1st year/Intelligent Systems/naturalLenguage/review_polarity/txt_sentoken/pos\", encoding = \"UTF-8\")\n",
    "corpus = Corpus(source.pos)"
   ]
  },
  {
   "cell_type": "code",
   "execution_count": 4,
   "metadata": {
    "scrolled": true
   },
   "outputs": [
    {
     "name": "stdout",
     "output_type": "stream",
     "text": [
      "<<PlainTextDocument>>\n",
      "Metadata:  7\n",
      "Content:  chars: 4226\n",
      "\n",
      "films adapted from comic books have had plenty of success , whether they're about superheroes ( batman , superman , spawn ) , or geared toward kids ( casper ) or the arthouse crowd ( ghost world ) , but there's never really been a comic book like from hell before . \n",
      "for starters , it was created by alan moore ( and eddie campbell ) , who brought the medium to a whole new level in the mid '80s with a 12-part series called the watchmen . \n",
      "to say moore and campbell thoroughly researched the subject of jack the ripper would be like saying michael jackson is starting to look a little odd . \n",
      "the book ( or \" graphic novel , \" if you will ) is over 500 pages long and includes nearly 30 more that consist of nothing but footnotes . \n",
      "in other words , don't dismiss this film because of its source . \n",
      "if you can get past the whole comic book thing , you might find another stumbling block in from hell's directors , albert and allen hughes . \n",
      "getting the hughes brothers to direct this seems almost as ludicrous as casting carrot top in , well , anything , but riddle me this : who better to direct a film that's set in the ghetto and features really violent street crime than the mad geniuses behind menace ii society ? \n",
      "the ghetto in question is , of course , whitechapel in 1888 london's east end . \n",
      "it's a filthy , sooty place where the whores ( called \" unfortunates \" ) are starting to get a little nervous about this mysterious psychopath who has been carving through their profession with surgical precision . \n",
      "when the first stiff turns up , copper peter godley ( robbie coltrane , the world is not enough ) calls in inspector frederick abberline ( johnny depp , blow ) to crack the case . \n",
      "abberline , a widower , has prophetic dreams he unsuccessfully tries to quell with copious amounts of absinthe and opium . \n",
      "upon arriving in whitechapel , he befriends an unfortunate named mary kelly ( heather graham , say it isn't so ) and proceeds to investigate the horribly gruesome crimes that even the police surgeon can't stomach . \n",
      "i don't think anyone needs to be briefed on jack the ripper , so i won't go into the particulars here , other than to say moore and campbell have a unique and interesting theory about both the identity of the killer and the reasons he chooses to slay . \n",
      "in the comic , they don't bother cloaking the identity of the ripper , but screenwriters terry hayes ( vertical limit ) and rafael yglesias ( les mis ? rables ) do a good job of keeping him hidden from viewers until the very end . \n",
      "it's funny to watch the locals blindly point the finger of blame at jews and indians because , after all , an englishman could never be capable of committing such ghastly acts . \n",
      "and from hell's ending had me whistling the stonecutters song from the simpsons for days ( \" who holds back the electric car/who made steve guttenberg a star ? \" ) . \n",
      "don't worry - it'll all make sense when you see it . \n",
      "now onto from hell's appearance : it's certainly dark and bleak enough , and it's surprising to see how much more it looks like a tim burton film than planet of the apes did ( at times , it seems like sleepy hollow 2 ) . \n",
      "the print i saw wasn't completely finished ( both color and music had not been finalized , so no comments about marilyn manson ) , but cinematographer peter deming ( don't say a word ) ably captures the dreariness of victorian-era london and helped make the flashy killing scenes remind me of the crazy flashbacks in twin peaks , even though the violence in the film pales in comparison to that in the black-and-white comic . \n",
      "oscar winner martin childs' ( shakespeare in love ) production design turns the original prague surroundings into one creepy place . \n",
      "even the acting in from hell is solid , with the dreamy depp turning in a typically strong performance and deftly handling a british accent . \n",
      "ians holm ( joe gould's secret ) and richardson ( 102 dalmatians ) log in great supporting roles , but the big surprise here is graham . \n",
      "i cringed the first time she opened her mouth , imagining her attempt at an irish accent , but it actually wasn't half bad . \n",
      "the film , however , is all good . \n",
      "2 : 00 - r for strong violence/gore , sexuality , language and drug content \n"
     ]
    }
   ],
   "source": [
    "inspect(corpus[[1]])"
   ]
  },
  {
   "cell_type": "markdown",
   "metadata": {},
   "source": [
    "## Annotate corpus"
   ]
  },
  {
   "cell_type": "code",
   "execution_count": 5,
   "metadata": {},
   "outputs": [],
   "source": [
    "annotations = lapply(corpus, getAnnotationsFromDocument)"
   ]
  },
  {
   "cell_type": "code",
   "execution_count": 6,
   "metadata": {},
   "outputs": [],
   "source": [
    "corpus.tagged = Map(getAnnotatedPlainTextDocument, corpus, annotations)"
   ]
  },
  {
   "cell_type": "code",
   "execution_count": 7,
   "metadata": {},
   "outputs": [],
   "source": [
    "corpus.taggedText = Map(getAnnotatedMergedDocument, corpus, annotations)"
   ]
  },
  {
   "cell_type": "markdown",
   "metadata": {},
   "source": [
    "## Actors from DBpedia"
   ]
  },
  {
   "cell_type": "code",
   "execution_count": 8,
   "metadata": {},
   "outputs": [],
   "source": [
    "prefixT <- c(\"skos\",\"http://www.w3.org/2004/02/skos/core#\")\n",
    "\n",
    "sparql_prefixT <- \"\n",
    "PREFIX owl: <http://www.w3.org/2002/07/owl#>\n",
    "\"\n",
    "\n",
    "qT <- paste(sparql_prefixT,\"\n",
    "SELECT DISTINCT ?label where {\n",
    "  ?actor a <http://dbpedia.org/class/yago/Actor109765278> .\n",
    "  ?actor rdfs:label ?label .\n",
    "} \n",
    "LIMIT 10000\n",
    "OFFSET 0\n",
    "\")"
   ]
  },
  {
   "cell_type": "code",
   "execution_count": 9,
   "metadata": {},
   "outputs": [],
   "source": [
    "endpointT <- \"http://dbpedia.org/sparql\"\n",
    "optionsT=\"\"\n",
    "\n",
    "actors <- SPARQL(endpointT,qT,ns=prefixT,extra=optionsT)$results"
   ]
  },
  {
   "cell_type": "markdown",
   "metadata": {},
   "source": [
    "## Clean the query result\n",
    "\n",
    "### We need to clean the output of the query. We need to:\n",
    "\n",
    "* Remove everything out of the quotes\n",
    "* Remove parentheses\n",
    "* Remove duplicates\n",
    "* Remove “.” for the regular expression\n",
    "* Put all letters in non-capital"
   ]
  },
  {
   "cell_type": "code",
   "execution_count": 10,
   "metadata": {},
   "outputs": [
    {
     "data": {
      "text/html": [
       "4565"
      ],
      "text/latex": [
       "4565"
      ],
      "text/markdown": [
       "4565"
      ],
      "text/plain": [
       "[1] 4565"
      ]
     },
     "metadata": {},
     "output_type": "display_data"
    }
   ],
   "source": [
    "actors.2 <- mclapply(actors, function(x) strsplit(x,'\"')[[1]][2])\n",
    "actors.3 <- mclapply(actors.2, function(x) strsplit(x,' \\\\(')[[1]][1])\n",
    "actor.names <- unique(actors.3)\n",
    "actor.names <- mclapply(actor.names, gsub, pattern=\"\\\\.\", replacement=\" \")\n",
    "actor.names <- mclapply(actor.names, tolower)\n",
    "length(actor.names)"
   ]
  },
  {
   "cell_type": "markdown",
   "metadata": {},
   "source": [
    "## ScreenWriter from DBpedia"
   ]
  },
  {
   "cell_type": "code",
   "execution_count": 11,
   "metadata": {},
   "outputs": [],
   "source": [
    "prefixT <- c(\"skos\",\"http://www.w3.org/2004/02/skos/core#\")\n",
    "\n",
    "sparql_prefixT <- \"\n",
    "PREFIX owl: <http://www.w3.org/2002/07/owl#>\n",
    "\"\n",
    "\n",
    "qT <- paste(sparql_prefixT,\"\n",
    "SELECT DISTINCT ?label where {\n",
    "  ?actor a <http://dbpedia.org/class/yago/Screenwriter110564400> .\n",
    "  ?actor rdfs:label ?label .\n",
    "} \n",
    "LIMIT 10000\n",
    "OFFSET 0\n",
    "\")\n",
    "\n"
   ]
  },
  {
   "cell_type": "code",
   "execution_count": 12,
   "metadata": {},
   "outputs": [],
   "source": [
    "endpointT <- \"http://dbpedia.org/sparql\"\n",
    "optionsT=\"\"\n",
    "\n",
    "screenwriters <- SPARQL(endpointT,qT,ns=prefixT,extra=optionsT)$results"
   ]
  },
  {
   "cell_type": "code",
   "execution_count": 13,
   "metadata": {},
   "outputs": [
    {
     "data": {
      "text/html": [
       "4419"
      ],
      "text/latex": [
       "4419"
      ],
      "text/markdown": [
       "4419"
      ],
      "text/plain": [
       "[1] 4419"
      ]
     },
     "metadata": {},
     "output_type": "display_data"
    }
   ],
   "source": [
    "screenwriters.2 <- mclapply(screenwriters, function(x) strsplit(x,'\"')[[1]][2])\n",
    "screenwriters.3 <- mclapply(screenwriters.2, function(x) strsplit(x,' \\\\(')[[1]][1])\n",
    "screenwriter.names <- unique(screenwriters.3)\n",
    "screenwriter.names <- mclapply(screenwriter.names, gsub, pattern=\"\\\\.\", replacement=\" \")\n",
    "screenwriter.names <- mclapply(screenwriter.names, tolower)\n",
    "length(screenwriter.names)"
   ]
  },
  {
   "cell_type": "markdown",
   "metadata": {},
   "source": [
    "## FilmMaker from DBpedia"
   ]
  },
  {
   "cell_type": "code",
   "execution_count": 14,
   "metadata": {},
   "outputs": [],
   "source": [
    "prefixT <- c(\"skos\",\"http://www.w3.org/2004/02/skos/core#\")\n",
    "\n",
    "sparql_prefixT <- \"\n",
    "PREFIX owl: <http://www.w3.org/2002/07/owl#>\n",
    "\"\n",
    "\n",
    "qT <- paste(sparql_prefixT,\"\n",
    "SELECT DISTINCT ?label where {\n",
    "  ?actor a <http://dbpedia.org/class/yago/FilmMaker110088390> .\n",
    "  ?actor rdfs:label ?label .\n",
    "} \n",
    "LIMIT 10000\n",
    "OFFSET 0\n",
    "\")"
   ]
  },
  {
   "cell_type": "code",
   "execution_count": 15,
   "metadata": {},
   "outputs": [],
   "source": [
    "endpointT <- \"http://dbpedia.org/sparql\"\n",
    "optionsT=\"\"\n",
    "\n",
    "filmmakers <- SPARQL(endpointT,qT,ns=prefixT,extra=optionsT)$results"
   ]
  },
  {
   "cell_type": "code",
   "execution_count": 16,
   "metadata": {},
   "outputs": [
    {
     "data": {
      "text/html": [
       "4859"
      ],
      "text/latex": [
       "4859"
      ],
      "text/markdown": [
       "4859"
      ],
      "text/plain": [
       "[1] 4859"
      ]
     },
     "metadata": {},
     "output_type": "display_data"
    }
   ],
   "source": [
    "filmmakers.2 <- mclapply(filmmakers, function(x) strsplit(x,'\"')[[1]][2])\n",
    "filmmakers.3 <- mclapply(filmmakers.2, function(x) strsplit(x,' \\\\(')[[1]][1])\n",
    "filmmaker.names <- unique(filmmakers.3)\n",
    "filmmaker.names <- mclapply(filmmaker.names, gsub, pattern=\"\\\\.\", replacement=\" \")\n",
    "filmmaker.names <- mclapply(filmmaker.names, tolower)\n",
    "length(filmmaker.names)"
   ]
  },
  {
   "cell_type": "markdown",
   "metadata": {},
   "source": [
    "## Scriptwiter from DBpedia"
   ]
  },
  {
   "cell_type": "code",
   "execution_count": 17,
   "metadata": {},
   "outputs": [],
   "source": [
    "prefixT <- c(\"skos\",\"http://www.w3.org/2004/02/skos/core#\")\n",
    "\n",
    "sparql_prefixT <- \"\n",
    "PREFIX owl: <http://www.w3.org/2002/07/owl#>\n",
    "\"\n",
    "\n",
    "qT <- paste(sparql_prefixT,\"\n",
    "SELECT DISTINCT ?label where {\n",
    "  ?actor a <http://dbpedia.org/class/yago/Scriptwriter110564905> .\n",
    "  ?actor rdfs:label ?label .\n",
    "} \n",
    "LIMIT 10000\n",
    "OFFSET 0\n",
    "\")"
   ]
  },
  {
   "cell_type": "code",
   "execution_count": 18,
   "metadata": {},
   "outputs": [],
   "source": [
    "endpointT <- \"http://dbpedia.org/sparql\"\n",
    "optionsT=\"\"\n",
    "\n",
    "scriptwriters <- SPARQL(endpointT,qT,ns=prefixT,extra=optionsT)$results"
   ]
  },
  {
   "cell_type": "code",
   "execution_count": 19,
   "metadata": {},
   "outputs": [
    {
     "data": {
      "text/html": [
       "4419"
      ],
      "text/latex": [
       "4419"
      ],
      "text/markdown": [
       "4419"
      ],
      "text/plain": [
       "[1] 4419"
      ]
     },
     "metadata": {},
     "output_type": "display_data"
    }
   ],
   "source": [
    "scriptwriters.2 <- mclapply(scriptwriters, function(x) strsplit(x,'\"')[[1]][2])\n",
    "scriptwriters.3 <- mclapply(scriptwriters.2, function(x) strsplit(x,' \\\\(')[[1]][1])\n",
    "scriptwriter.names <- unique(scriptwriters.3)\n",
    "scriptwriter.names <- mclapply(scriptwriter.names, gsub, pattern=\"\\\\.\", replacement=\" \")\n",
    "scriptwriter.names <- mclapply(scriptwriter.names, tolower)\n",
    "length(scriptwriter.names)"
   ]
  },
  {
   "cell_type": "markdown",
   "metadata": {},
   "source": [
    "## American Actors from DBpedia"
   ]
  },
  {
   "cell_type": "code",
   "execution_count": 20,
   "metadata": {},
   "outputs": [],
   "source": [
    "prefixT <- c(\"skos\",\"http://www.w3.org/2004/02/skos/core#\")\n",
    "\n",
    "sparql_prefixT <- \"\n",
    "PREFIX owl: <http://www.w3.org/2002/07/owl#>\n",
    "\"\n",
    "\n",
    "qT <- paste(sparql_prefixT,\"\n",
    "SELECT DISTINCT ?label where {\n",
    "  ?actor a <http://dbpedia.org/class/yago/WikicatAmericanActors> .\n",
    "  ?actor rdfs:label ?label .\n",
    "} \n",
    "LIMIT 10000\n",
    "OFFSET 0\n",
    "\")"
   ]
  },
  {
   "cell_type": "code",
   "execution_count": 21,
   "metadata": {},
   "outputs": [],
   "source": [
    "endpointT <- \"http://dbpedia.org/sparql\"\n",
    "optionsT=\"\"\n",
    "\n",
    "americanactors <- SPARQL(endpointT,qT,ns=prefixT,extra=optionsT)$results"
   ]
  },
  {
   "cell_type": "code",
   "execution_count": 22,
   "metadata": {},
   "outputs": [
    {
     "data": {
      "text/html": [
       "3719"
      ],
      "text/latex": [
       "3719"
      ],
      "text/markdown": [
       "3719"
      ],
      "text/plain": [
       "[1] 3719"
      ]
     },
     "metadata": {},
     "output_type": "display_data"
    }
   ],
   "source": [
    "americanactors.2 <- mclapply(americanactors, function(x) strsplit(x,'\"')[[1]][2])\n",
    "americanactors.3 <- mclapply(americanactors.2, function(x) strsplit(x,' \\\\(')[[1]][1])\n",
    "americanactor.names <- unique(americanactors.3)\n",
    "americanactor.names <- mclapply(americanactor.names, gsub, pattern=\"\\\\.\", replacement=\" \")\n",
    "americanactor.names <- mclapply(americanactor.names, tolower)\n",
    "length(americanactor.names)"
   ]
  },
  {
   "cell_type": "markdown",
   "metadata": {},
   "source": [
    "## American Actresses"
   ]
  },
  {
   "cell_type": "code",
   "execution_count": 23,
   "metadata": {},
   "outputs": [],
   "source": [
    "prefixT <- c(\"skos\",\"http://www.w3.org/2004/02/skos/core#\")\n",
    "\n",
    "sparql_prefixT <- \"\n",
    "PREFIX owl: <http://www.w3.org/2002/07/owl#>\n",
    "\"\n",
    "\n",
    "qT <- paste(sparql_prefixT,\"\n",
    "SELECT DISTINCT ?label where {\n",
    "  ?actor a <http://dbpedia.org/class/yago/WikicatAmericanActresses> .\n",
    "  ?actor rdfs:label ?label .\n",
    "} \n",
    "LIMIT 10000\n",
    "OFFSET 0\n",
    "\")"
   ]
  },
  {
   "cell_type": "code",
   "execution_count": 24,
   "metadata": {},
   "outputs": [],
   "source": [
    "endpointT <- \"http://dbpedia.org/sparql\"\n",
    "optionsT=\"\"\n",
    "\n",
    "americanactresses <- SPARQL(endpointT,qT,ns=prefixT,extra=optionsT)$results"
   ]
  },
  {
   "cell_type": "code",
   "execution_count": 25,
   "metadata": {},
   "outputs": [
    {
     "data": {
      "text/html": [
       "3744"
      ],
      "text/latex": [
       "3744"
      ],
      "text/markdown": [
       "3744"
      ],
      "text/plain": [
       "[1] 3744"
      ]
     },
     "metadata": {},
     "output_type": "display_data"
    }
   ],
   "source": [
    "americanactresses.2 <- mclapply(americanactresses, function(x) strsplit(x,'\"')[[1]][2])\n",
    "americanactresses.3 <- mclapply(americanactresses.2, function(x) strsplit(x,' \\\\(')[[1]][1])\n",
    "americanactress.names <- unique(americanactresses.3)\n",
    "americanactress.names <- mclapply(americanactress.names, gsub, pattern=\"\\\\.\", replacement=\" \")\n",
    "americanactress.names <- mclapply(americanactress.names, tolower)\n",
    "length(americanactress.names)"
   ]
  },
  {
   "cell_type": "markdown",
   "metadata": {},
   "source": [
    "## 21st Century Actors "
   ]
  },
  {
   "cell_type": "code",
   "execution_count": 26,
   "metadata": {},
   "outputs": [],
   "source": [
    "prefixT <- c(\"skos\",\"http://www.w3.org/2004/02/skos/core#\")\n",
    "\n",
    "sparql_prefixT <- \"\n",
    "PREFIX owl: <http://www.w3.org/2002/07/owl#>\n",
    "\"\n",
    "\n",
    "qT <- paste(sparql_prefixT,\"\n",
    "SELECT DISTINCT ?label where {\n",
    "  ?actor a <http://dbpedia.org/class/yago/WikicatAmericanActresses> .\n",
    "  ?actor rdfs:label ?label .\n",
    "} \n",
    "LIMIT 10000\n",
    "OFFSET 0\n",
    "\")"
   ]
  },
  {
   "cell_type": "code",
   "execution_count": 27,
   "metadata": {},
   "outputs": [],
   "source": [
    "endpointT <- \"http://dbpedia.org/sparql\"\n",
    "optionsT=\"\"\n",
    "\n",
    "firstactors <- SPARQL(endpointT,qT,ns=prefixT,extra=optionsT)$results"
   ]
  },
  {
   "cell_type": "code",
   "execution_count": 28,
   "metadata": {},
   "outputs": [
    {
     "data": {
      "text/html": [
       "3744"
      ],
      "text/latex": [
       "3744"
      ],
      "text/markdown": [
       "3744"
      ],
      "text/plain": [
       "[1] 3744"
      ]
     },
     "metadata": {},
     "output_type": "display_data"
    }
   ],
   "source": [
    "firstactors.2 <- mclapply(firstactors, function(x) strsplit(x,'\"')[[1]][2])\n",
    "firstactors.3 <- mclapply(firstactors.2, function(x) strsplit(x,' \\\\(')[[1]][1])\n",
    "firstactor.names <- unique(firstactors.3)\n",
    "firstactor.names <- mclapply(firstactor.names, gsub, pattern=\"\\\\.\", replacement=\" \")\n",
    "firstactor.names <- mclapply(firstactor.names, tolower)\n",
    "length(firstactor.names)"
   ]
  },
  {
   "cell_type": "markdown",
   "metadata": {},
   "source": [
    "## Fictional Characters"
   ]
  },
  {
   "cell_type": "code",
   "execution_count": 29,
   "metadata": {},
   "outputs": [
    {
     "data": {
      "text/html": [
       "6307"
      ],
      "text/latex": [
       "6307"
      ],
      "text/markdown": [
       "6307"
      ],
      "text/plain": [
       "[1] 6307"
      ]
     },
     "metadata": {},
     "output_type": "display_data"
    }
   ],
   "source": [
    "####### FICTIONAL CHARACTER\n",
    "\n",
    "prefixT <- c(\"skos\",\"http://www.w3.org/2004/02/skos/core#\")\n",
    "\n",
    "sparql_prefixT <- \"\n",
    "PREFIX owl: <http://www.w3.org/2002/07/owl#>\n",
    "\"\n",
    "\n",
    "qT <- paste(sparql_prefixT,\"\n",
    "            SELECT DISTINCT ?label where {\n",
    "            ?actor a <http://dbpedia.org/class/yago/FictionalCharacter109587565> .\n",
    "            ?actor rdfs:label ?label .\n",
    "            } \n",
    "            LIMIT 10000\n",
    "            OFFSET 0\n",
    "            \")\n",
    "\n",
    "endpointT <- \"http://dbpedia.org/sparql\"\n",
    "optionsT=\"\"\n",
    "\n",
    "fictionalcharacters <- SPARQL(endpointT,qT,ns=prefixT,extra=optionsT)$results\n",
    "\n",
    "## CLEAN\n",
    "\n",
    "fictionalcharacters.2 <- mclapply(fictionalcharacters, function(x) strsplit(x,'\"')[[1]][2])\n",
    "fictionalcharacters.3 <- mclapply(fictionalcharacters.2, function(x) strsplit(x,' \\\\(')[[1]][1])\n",
    "fictionalcharacter.names <- unique(fictionalcharacters.3)\n",
    "fictionalcharacter.names <- mclapply(fictionalcharacter.names, gsub, pattern=\"\\\\.\", replacement=\" \")\n",
    "fictionalcharacter.names <- mclapply(fictionalcharacter.names, tolower)\n",
    "length(fictionalcharacter.names)"
   ]
  },
  {
   "cell_type": "markdown",
   "metadata": {},
   "source": [
    "## Musicians"
   ]
  },
  {
   "cell_type": "code",
   "execution_count": 30,
   "metadata": {},
   "outputs": [
    {
     "data": {
      "text/html": [
       "4871"
      ],
      "text/latex": [
       "4871"
      ],
      "text/markdown": [
       "4871"
      ],
      "text/plain": [
       "[1] 4871"
      ]
     },
     "metadata": {},
     "output_type": "display_data"
    }
   ],
   "source": [
    "prefixT <- c(\"skos\",\"http://www.w3.org/2004/02/skos/core#\")\n",
    "\n",
    "sparql_prefixT <- \"\n",
    "PREFIX owl: <http://www.w3.org/2002/07/owl#>\n",
    "\"\n",
    "\n",
    "qT <- paste(sparql_prefixT,\"\n",
    "            SELECT DISTINCT ?label where {\n",
    "            ?actor a <http://dbpedia.org/class/yago/Musician110339966> .\n",
    "            ?actor rdfs:label ?label .\n",
    "            } \n",
    "            LIMIT 10000\n",
    "            OFFSET 0\n",
    "            \")\n",
    "\n",
    "endpointT <- \"http://dbpedia.org/sparql\"\n",
    "optionsT=\"\"\n",
    "\n",
    "musicians <- SPARQL(endpointT,qT,ns=prefixT,extra=optionsT)$results\n",
    "\n",
    "## CLEAN\n",
    "\n",
    "musicians.2 <- mclapply(musicians, function(x) strsplit(x,'\"')[[1]][2])\n",
    "musicians.3 <- mclapply(musicians.2, function(x) strsplit(x,' \\\\(')[[1]][1])\n",
    "musician.names <- unique(musicians.3)\n",
    "musician.names <- mclapply(musician.names, gsub, pattern=\"\\\\.\", replacement=\" \")\n",
    "musician.names <- mclapply(musician.names, tolower)\n",
    "length(musician.names)"
   ]
  },
  {
   "cell_type": "markdown",
   "metadata": {},
   "source": [
    "## Detect patterns"
   ]
  },
  {
   "cell_type": "code",
   "execution_count": 31,
   "metadata": {},
   "outputs": [],
   "source": [
    "###### CREATE PATTERNS\n",
    "\n",
    "pattern.an <- mclapply(actor.names, function(x) return(paste(\" \",x,\" \",sep = \"\")))\n",
    "# There is some actor named \"you\" that is spoiling our results; we remove it\n",
    "pattern.an = pattern.an[grep(\"^ you $\", pattern.an, invert = TRUE)]\n",
    "\n",
    "pattern.sc <- mclapply(screenwriter.names, function(x) return(paste(\" \",x,\" \",sep = \"\"))) \n",
    "\n",
    "pattern.fm <- mclapply(filmmaker.names, function(x) return(paste(\" \",x,\" \",sep = \"\"))) \n",
    "\n",
    "pattern.sw <- mclapply(scriptwriter.names, function(x) return(paste(\" \",x,\" \",sep = \"\"))) \n",
    "\n",
    "pattern.aa <- mclapply(americanactor.names, function(x) return(paste(\" \",x,\" \",sep = \"\"))) \n",
    "\n",
    "pattern.aas <- mclapply(americanactress.names, function(x) return(paste(\" \",x,\" \",sep = \"\"))) \n",
    "\n",
    "pattern.fa <- mclapply(firstactor.names, function(x) return(paste(\" \",x,\" \",sep = \"\"))) \n",
    "                       \n",
    "pattern.fc <- mclapply(fictionalcharacter.names, function(x) return(paste(\" \",x,\" \",sep = \"\")))  \n",
    "                       \n",
    "pattern.m <- mclapply(musician.names, function(x) return(paste(\" \",x,\" \",sep = \"\"))) "
   ]
  },
  {
   "cell_type": "code",
   "execution_count": 32,
   "metadata": {},
   "outputs": [],
   "source": [
    "###### JOIN PATTERNS\n",
    "\n",
    "pattern <- append(pattern.an,pattern.sc)\n",
    "pattern <- append(pattern, pattern.fm)\n",
    "pattern <- append(pattern, pattern.sw)\n",
    "pattern <- append(pattern, pattern.aa)\n",
    "pattern <- append(pattern, pattern.aas)\n",
    "pattern <- append(pattern, pattern.fa)\n",
    "pattern <- append(pattern, pattern.fc)\n",
    "pattern <- append(pattern, pattern.m)"
   ]
  },
  {
   "cell_type": "code",
   "execution_count": 48,
   "metadata": {},
   "outputs": [],
   "source": [
    "pattern = pattern[grep(\"^ you $\", pattern, invert = TRUE)]"
   ]
  },
  {
   "cell_type": "code",
   "execution_count": 49,
   "metadata": {},
   "outputs": [],
   "source": [
    "####### CLEAN COPIES\n",
    "\n",
    "pattern <- unique(pattern)"
   ]
  },
  {
   "cell_type": "code",
   "execution_count": 50,
   "metadata": {},
   "outputs": [],
   "source": [
    "###### UNLIST PATTERN\n",
    "\n",
    "pattern=unlist(pattern)"
   ]
  },
  {
   "cell_type": "markdown",
   "metadata": {},
   "source": [
    "## Write gazetteer to a file\n"
   ]
  },
  {
   "cell_type": "code",
   "execution_count": 52,
   "metadata": {},
   "outputs": [],
   "source": [
    "write.table(pattern, file = \"gazetteer.txt\", row.names = F, col.names = F, na=\"\", sep=\";\")"
   ]
  },
  {
   "cell_type": "code",
   "execution_count": 53,
   "metadata": {},
   "outputs": [],
   "source": [
    "######## DETECT PATTERNS\n",
    "\n",
    "matches = detectPatternsInCorpus(corpus, pattern)"
   ]
  },
  {
   "cell_type": "markdown",
   "metadata": {},
   "source": [
    "## Write the results to a file."
   ]
  },
  {
   "cell_type": "code",
   "execution_count": 54,
   "metadata": {},
   "outputs": [],
   "source": [
    "write.table(matches, file = \"allEntitiesGazetteer.csv\", row.names = F, na=\"\", sep=\";\")"
   ]
  },
  {
   "cell_type": "markdown",
   "metadata": {},
   "source": [
    "## Evaluate using gold standard"
   ]
  },
  {
   "cell_type": "code",
   "execution_count": 39,
   "metadata": {},
   "outputs": [
    {
     "data": {
      "text/html": [
       "<table>\n",
       "<thead><tr><th></th><th scope=col>Entity</th><th scope=col>Count</th></tr></thead>\n",
       "<tbody>\n",
       "\t<tr><th scope=row>3</th><td> al pacino         </td><td> 6                 </td></tr>\n",
       "\t<tr><th scope=row>8</th><td> alan rickman      </td><td> 4                 </td></tr>\n",
       "\t<tr><th scope=row>13</th><td> albert finney     </td><td> 1                 </td></tr>\n",
       "\t<tr><th scope=row>18</th><td> alex cox          </td><td> 1                 </td></tr>\n",
       "\t<tr><th scope=row>25</th><td> andie macdowell   </td><td> 3                 </td></tr>\n",
       "\t<tr><th scope=row>34</th><td> antonio banderas  </td><td> 5                 </td></tr>\n",
       "\t<tr><th scope=row>43</th><td> ashley judd       </td><td> 6                 </td></tr>\n",
       "\t<tr><th scope=row>53</th><td> ava gardner       </td><td> 1                 </td></tr>\n",
       "\t<tr><th scope=row>69</th><td> blake edwards     </td><td> 1                 </td></tr>\n",
       "\t<tr><th scope=row>75</th><td> brad pitt         </td><td>11                 </td></tr>\n",
       "\t<tr><th scope=row>80</th><td> bruce lee         </td><td> 5                 </td></tr>\n",
       "\t<tr><th scope=row>85</th><td> buster keaton     </td><td> 1                 </td></tr>\n",
       "\t<tr><th scope=row>90</th><td> cameron diaz      </td><td>15                 </td></tr>\n",
       "\t<tr><th scope=row>105</th><td> cary grant        </td><td> 2                 </td></tr>\n",
       "\t<tr><th scope=row>116</th><td> charlton heston   </td><td> 3                 </td></tr>\n",
       "\t<tr><th scope=row>129</th><td> christopher lee   </td><td> 2                 </td></tr>\n",
       "\t<tr><th scope=row>134</th><td> clark gable       </td><td> 1                 </td></tr>\n",
       "\t<tr><th scope=row>144</th><td> clint eastwood    </td><td> 5                 </td></tr>\n",
       "\t<tr><th scope=row>152</th><td> dan aykroyd       </td><td> 2                 </td></tr>\n",
       "\t<tr><th scope=row>161</th><td> dark angel        </td><td> 2                 </td></tr>\n",
       "\t<tr><th scope=row>167</th><td> data              </td><td> 5                 </td></tr>\n",
       "\t<tr><th scope=row>177</th><td> denise richards   </td><td> 9                 </td></tr>\n",
       "\t<tr><th scope=row>182</th><td> desmond llewelyn  </td><td> 2                 </td></tr>\n",
       "\t<tr><th scope=row>193</th><td> dustin hoffman    </td><td> 8                 </td></tr>\n",
       "\t<tr><th scope=row>232</th><td> fish              </td><td>20                 </td></tr>\n",
       "\t<tr><th scope=row>235</th><td> franco zeffirelli </td><td> 1                 </td></tr>\n",
       "\t<tr><th scope=row>239</th><td> fred gwynne       </td><td> 1                 </td></tr>\n",
       "\t<tr><th scope=row>241</th><td> freddie prinze    </td><td> 3                 </td></tr>\n",
       "\t<tr><th scope=row>242</th><td> gary cooper       </td><td> 1                 </td></tr>\n",
       "\t<tr><th scope=row>251</th><td> gillian anderson  </td><td> 5                 </td></tr>\n",
       "\t<tr><th scope=row>⋮</th><td>⋮</td><td>⋮</td></tr>\n",
       "\t<tr><th scope=row>23179</th><td> hint         </td><td> 19           </td></tr>\n",
       "\t<tr><th scope=row>23203</th><td> intuition    </td><td>  1           </td></tr>\n",
       "\t<tr><th scope=row>23233</th><td> james levine </td><td>  1           </td></tr>\n",
       "\t<tr><th scope=row>23312</th><td> joe young    </td><td>  1           </td></tr>\n",
       "\t<tr><th scope=row>23394</th><td> johnson      </td><td> 14           </td></tr>\n",
       "\t<tr><th scope=row>23420</th><td> juicy        </td><td>  6           </td></tr>\n",
       "\t<tr><th scope=row>23491</th><td> late         </td><td> 96           </td></tr>\n",
       "\t<tr><th scope=row>23526</th><td> lorna        </td><td>  1           </td></tr>\n",
       "\t<tr><th scope=row>23629</th><td> mathematics  </td><td>  4           </td></tr>\n",
       "\t<tr><th scope=row>23669</th><td> mika         </td><td>  2           </td></tr>\n",
       "\t<tr><th scope=row>23745</th><td> nikki        </td><td>  2           </td></tr>\n",
       "\t<tr><th scope=row>23772</th><td> nobody       </td><td> 25           </td></tr>\n",
       "\t<tr><th scope=row>23779</th><td> nurses       </td><td>  2           </td></tr>\n",
       "\t<tr><th scope=row>23796</th><td> panama       </td><td>  1           </td></tr>\n",
       "\t<tr><th scope=row>23827</th><td> paves        </td><td>  1           </td></tr>\n",
       "\t<tr><th scope=row>23869</th><td> promise      </td><td> 26           </td></tr>\n",
       "\t<tr><th scope=row>23870</th><td> promises     </td><td> 18           </td></tr>\n",
       "\t<tr><th scope=row>23884</th><td> rat          </td><td>  9           </td></tr>\n",
       "\t<tr><th scope=row>23896</th><td> reveal       </td><td> 42           </td></tr>\n",
       "\t<tr><th scope=row>24028</th><td> ski          </td><td>  3           </td></tr>\n",
       "\t<tr><th scope=row>24029</th><td> sleep        </td><td> 24           </td></tr>\n",
       "\t<tr><th scope=row>24072</th><td> the advent   </td><td>  3           </td></tr>\n",
       "\t<tr><th scope=row>24080</th><td> impressions  </td><td>  3           </td></tr>\n",
       "\t<tr><th scope=row>24238</th><td> you          </td><td>667           </td></tr>\n",
       "\t<tr><th scope=row>24322</th><td> metaphysics  </td><td>  1           </td></tr>\n",
       "\t<tr><th scope=row>24695</th><td> boris        </td><td>  4           </td></tr>\n",
       "\t<tr><th scope=row>24948</th><td> delia        </td><td>  1           </td></tr>\n",
       "\t<tr><th scope=row>25044</th><td> elliot davis </td><td>  1           </td></tr>\n",
       "\t<tr><th scope=row>25097</th><td> fanny        </td><td>  1           </td></tr>\n",
       "\t<tr><th scope=row>25296</th><td> imperial     </td><td>  9           </td></tr>\n",
       "</tbody>\n",
       "</table>\n"
      ],
      "text/latex": [
       "\\begin{tabular}{r|ll}\n",
       "  & Entity & Count\\\\\n",
       "\\hline\n",
       "\t3 &  al pacino          &  6                 \\\\\n",
       "\t8 &  alan rickman       &  4                 \\\\\n",
       "\t13 &  albert finney      &  1                 \\\\\n",
       "\t18 &  alex cox           &  1                 \\\\\n",
       "\t25 &  andie macdowell    &  3                 \\\\\n",
       "\t34 &  antonio banderas   &  5                 \\\\\n",
       "\t43 &  ashley judd        &  6                 \\\\\n",
       "\t53 &  ava gardner        &  1                 \\\\\n",
       "\t69 &  blake edwards      &  1                 \\\\\n",
       "\t75 &  brad pitt          & 11                 \\\\\n",
       "\t80 &  bruce lee          &  5                 \\\\\n",
       "\t85 &  buster keaton      &  1                 \\\\\n",
       "\t90 &  cameron diaz       & 15                 \\\\\n",
       "\t105 &  cary grant         &  2                 \\\\\n",
       "\t116 &  charlton heston    &  3                 \\\\\n",
       "\t129 &  christopher lee    &  2                 \\\\\n",
       "\t134 &  clark gable        &  1                 \\\\\n",
       "\t144 &  clint eastwood     &  5                 \\\\\n",
       "\t152 &  dan aykroyd        &  2                 \\\\\n",
       "\t161 &  dark angel         &  2                 \\\\\n",
       "\t167 &  data               &  5                 \\\\\n",
       "\t177 &  denise richards    &  9                 \\\\\n",
       "\t182 &  desmond llewelyn   &  2                 \\\\\n",
       "\t193 &  dustin hoffman     &  8                 \\\\\n",
       "\t232 &  fish               & 20                 \\\\\n",
       "\t235 &  franco zeffirelli  &  1                 \\\\\n",
       "\t239 &  fred gwynne        &  1                 \\\\\n",
       "\t241 &  freddie prinze     &  3                 \\\\\n",
       "\t242 &  gary cooper        &  1                 \\\\\n",
       "\t251 &  gillian anderson   &  5                 \\\\\n",
       "\t⋮ & ⋮ & ⋮\\\\\n",
       "\t23179 &  hint          &  19           \\\\\n",
       "\t23203 &  intuition     &   1           \\\\\n",
       "\t23233 &  james levine  &   1           \\\\\n",
       "\t23312 &  joe young     &   1           \\\\\n",
       "\t23394 &  johnson       &  14           \\\\\n",
       "\t23420 &  juicy         &   6           \\\\\n",
       "\t23491 &  late          &  96           \\\\\n",
       "\t23526 &  lorna         &   1           \\\\\n",
       "\t23629 &  mathematics   &   4           \\\\\n",
       "\t23669 &  mika          &   2           \\\\\n",
       "\t23745 &  nikki         &   2           \\\\\n",
       "\t23772 &  nobody        &  25           \\\\\n",
       "\t23779 &  nurses        &   2           \\\\\n",
       "\t23796 &  panama        &   1           \\\\\n",
       "\t23827 &  paves         &   1           \\\\\n",
       "\t23869 &  promise       &  26           \\\\\n",
       "\t23870 &  promises      &  18           \\\\\n",
       "\t23884 &  rat           &   9           \\\\\n",
       "\t23896 &  reveal        &  42           \\\\\n",
       "\t24028 &  ski           &   3           \\\\\n",
       "\t24029 &  sleep         &  24           \\\\\n",
       "\t24072 &  the advent    &   3           \\\\\n",
       "\t24080 &  impressions   &   3           \\\\\n",
       "\t24238 &  you           & 667           \\\\\n",
       "\t24322 &  metaphysics   &   1           \\\\\n",
       "\t24695 &  boris         &   4           \\\\\n",
       "\t24948 &  delia         &   1           \\\\\n",
       "\t25044 &  elliot davis  &   1           \\\\\n",
       "\t25097 &  fanny         &   1           \\\\\n",
       "\t25296 &  imperial      &   9           \\\\\n",
       "\\end{tabular}\n"
      ],
      "text/markdown": [
       "\n",
       "| <!--/--> | Entity | Count | \n",
       "|---|---|---|---|---|---|---|---|---|---|---|---|---|---|---|---|---|---|---|---|---|---|---|---|---|---|---|---|---|---|---|---|---|---|---|---|---|---|---|---|---|---|---|---|---|---|---|---|---|---|---|---|---|---|---|---|---|---|---|---|---|\n",
       "| 3 |  al pacino          |  6                  | \n",
       "| 8 |  alan rickman       |  4                  | \n",
       "| 13 |  albert finney      |  1                  | \n",
       "| 18 |  alex cox           |  1                  | \n",
       "| 25 |  andie macdowell    |  3                  | \n",
       "| 34 |  antonio banderas   |  5                  | \n",
       "| 43 |  ashley judd        |  6                  | \n",
       "| 53 |  ava gardner        |  1                  | \n",
       "| 69 |  blake edwards      |  1                  | \n",
       "| 75 |  brad pitt          | 11                  | \n",
       "| 80 |  bruce lee          |  5                  | \n",
       "| 85 |  buster keaton      |  1                  | \n",
       "| 90 |  cameron diaz       | 15                  | \n",
       "| 105 |  cary grant         |  2                  | \n",
       "| 116 |  charlton heston    |  3                  | \n",
       "| 129 |  christopher lee    |  2                  | \n",
       "| 134 |  clark gable        |  1                  | \n",
       "| 144 |  clint eastwood     |  5                  | \n",
       "| 152 |  dan aykroyd        |  2                  | \n",
       "| 161 |  dark angel         |  2                  | \n",
       "| 167 |  data               |  5                  | \n",
       "| 177 |  denise richards    |  9                  | \n",
       "| 182 |  desmond llewelyn   |  2                  | \n",
       "| 193 |  dustin hoffman     |  8                  | \n",
       "| 232 |  fish               | 20                  | \n",
       "| 235 |  franco zeffirelli  |  1                  | \n",
       "| 239 |  fred gwynne        |  1                  | \n",
       "| 241 |  freddie prinze     |  3                  | \n",
       "| 242 |  gary cooper        |  1                  | \n",
       "| 251 |  gillian anderson   |  5                  | \n",
       "| ⋮ | ⋮ | ⋮ | \n",
       "| 23179 |  hint          |  19            | \n",
       "| 23203 |  intuition     |   1            | \n",
       "| 23233 |  james levine  |   1            | \n",
       "| 23312 |  joe young     |   1            | \n",
       "| 23394 |  johnson       |  14            | \n",
       "| 23420 |  juicy         |   6            | \n",
       "| 23491 |  late          |  96            | \n",
       "| 23526 |  lorna         |   1            | \n",
       "| 23629 |  mathematics   |   4            | \n",
       "| 23669 |  mika          |   2            | \n",
       "| 23745 |  nikki         |   2            | \n",
       "| 23772 |  nobody        |  25            | \n",
       "| 23779 |  nurses        |   2            | \n",
       "| 23796 |  panama        |   1            | \n",
       "| 23827 |  paves         |   1            | \n",
       "| 23869 |  promise       |  26            | \n",
       "| 23870 |  promises      |  18            | \n",
       "| 23884 |  rat           |   9            | \n",
       "| 23896 |  reveal        |  42            | \n",
       "| 24028 |  ski           |   3            | \n",
       "| 24029 |  sleep         |  24            | \n",
       "| 24072 |  the advent    |   3            | \n",
       "| 24080 |  impressions   |   3            | \n",
       "| 24238 |  you           | 667            | \n",
       "| 24322 |  metaphysics   |   1            | \n",
       "| 24695 |  boris         |   4            | \n",
       "| 24948 |  delia         |   1            | \n",
       "| 25044 |  elliot davis  |   1            | \n",
       "| 25097 |  fanny         |   1            | \n",
       "| 25296 |  imperial      |   9            | \n",
       "\n",
       "\n"
      ],
      "text/plain": [
       "      Entity              Count\n",
       "3      al pacino           6   \n",
       "8      alan rickman        4   \n",
       "13     albert finney       1   \n",
       "18     alex cox            1   \n",
       "25     andie macdowell     3   \n",
       "34     antonio banderas    5   \n",
       "43     ashley judd         6   \n",
       "53     ava gardner         1   \n",
       "69     blake edwards       1   \n",
       "75     brad pitt          11   \n",
       "80     bruce lee           5   \n",
       "85     buster keaton       1   \n",
       "90     cameron diaz       15   \n",
       "105    cary grant          2   \n",
       "116    charlton heston     3   \n",
       "129    christopher lee     2   \n",
       "134    clark gable         1   \n",
       "144    clint eastwood      5   \n",
       "152    dan aykroyd         2   \n",
       "161    dark angel          2   \n",
       "167    data                5   \n",
       "177    denise richards     9   \n",
       "182    desmond llewelyn    2   \n",
       "193    dustin hoffman      8   \n",
       "232    fish               20   \n",
       "235    franco zeffirelli   1   \n",
       "239    fred gwynne         1   \n",
       "241    freddie prinze      3   \n",
       "242    gary cooper         1   \n",
       "251    gillian anderson    5   \n",
       "⋮     ⋮                   ⋮    \n",
       "23179  hint                19  \n",
       "23203  intuition            1  \n",
       "23233  james levine         1  \n",
       "23312  joe young            1  \n",
       "23394  johnson             14  \n",
       "23420  juicy                6  \n",
       "23491  late                96  \n",
       "23526  lorna                1  \n",
       "23629  mathematics          4  \n",
       "23669  mika                 2  \n",
       "23745  nikki                2  \n",
       "23772  nobody              25  \n",
       "23779  nurses               2  \n",
       "23796  panama               1  \n",
       "23827  paves                1  \n",
       "23869  promise             26  \n",
       "23870  promises            18  \n",
       "23884  rat                  9  \n",
       "23896  reveal              42  \n",
       "24028  ski                  3  \n",
       "24029  sleep               24  \n",
       "24072  the advent           3  \n",
       "24080  impressions          3  \n",
       "24238  you                667  \n",
       "24322  metaphysics          1  \n",
       "24695  boris                4  \n",
       "24948  delia                1  \n",
       "25044  elliot davis         1  \n",
       "25097  fanny                1  \n",
       "25296  imperial             9  "
      ]
     },
     "metadata": {},
     "output_type": "display_data"
    }
   ],
   "source": [
    "# Let’s see which patterns we have found\n",
    "countColum = countMatchesPerColumn(matches) \n",
    "countColum[countColum$Count != 0,]"
   ]
  },
  {
   "cell_type": "code",
   "execution_count": 55,
   "metadata": {},
   "outputs": [
    {
     "data": {
      "text/html": [
       "<table>\n",
       "<thead><tr><th scope=col>Files</th><th scope=col>Matches</th></tr></thead>\n",
       "<tbody>\n",
       "\t<tr><td>cv000_29590.txt                                                                                                                               </td><td> tim burton     ,  heather graham ,  spawn          ,  jack           ,  batman         ,  casper         ,  set            ,  ghost          </td></tr>\n",
       "\t<tr><td>cv001_18431.txt             </td><td> bill murray ,  jock        </td></tr>\n",
       "\t<tr><td>cv002_15918.txt</td><td> meg ryan      </td></tr>\n",
       "\t<tr><td>cv003_11664.txt                                                                                               </td><td> paul newman  ,  roy scheider ,  mayor        ,  nemesis      ,  chief        ,  presence     ,  late         </td></tr>\n",
       "\t<tr><td>cv004_11636.txt                                                             </td><td> bruce lee ,  spawn     ,  general   ,  set       ,  scream    ,  era       </td></tr>\n",
       "\t<tr><td>cv005_29443.txt                                                                    </td><td> eriq ebouaney ,  prophet       ,  raoul         ,  death         ,  justice       </td></tr>\n",
       "\t<tr><td>cv006_15448.txt                                  </td><td> jennifer lien ,  avery brooks  ,  problem       </td></tr>\n",
       "\t<tr><td>cv007_4968.txt                                                                                                       </td><td> woody allen   ,  alec baldwin  ,  madeline kahn ,  clown         ,  presence      ,  riot          ,  lord          </td></tr>\n",
       "\t<tr><td>cv008_29435.txt                </td><td> general ,  dog     ,  late    </td></tr>\n",
       "\t<tr><td>cv009_29592.txt                            </td><td> gem   ,  chief ,  death ,  tiger ,  drama </td></tr>\n",
       "</tbody>\n",
       "</table>\n"
      ],
      "text/latex": [
       "\\begin{tabular}{r|ll}\n",
       " Files & Matches\\\\\n",
       "\\hline\n",
       "\t cv000\\_29590.txt                                                                                                                              &  tim burton     ,  heather graham ,  spawn          ,  jack           ,  batman         ,  casper         ,  set            ,  ghost          \\\\\n",
       "\t cv001\\_18431.txt            &  bill murray ,  jock        \\\\\n",
       "\t cv002\\_15918.txt &  meg ryan        \\\\\n",
       "\t cv003\\_11664.txt                                                                                              &  paul newman  ,  roy scheider ,  mayor        ,  nemesis      ,  chief        ,  presence     ,  late         \\\\\n",
       "\t cv004\\_11636.txt                                                            &  bruce lee ,  spawn     ,  general   ,  set       ,  scream    ,  era       \\\\\n",
       "\t cv005\\_29443.txt                                                                   &  eriq ebouaney ,  prophet       ,  raoul         ,  death         ,  justice       \\\\\n",
       "\t cv006\\_15448.txt                                 &  jennifer lien ,  avery brooks  ,  problem       \\\\\n",
       "\t cv007\\_4968.txt                                                                                                      &  woody allen   ,  alec baldwin  ,  madeline kahn ,  clown         ,  presence      ,  riot          ,  lord          \\\\\n",
       "\t cv008\\_29435.txt               &  general ,  dog     ,  late    \\\\\n",
       "\t cv009\\_29592.txt                           &  gem   ,  chief ,  death ,  tiger ,  drama \\\\\n",
       "\\end{tabular}\n"
      ],
      "text/markdown": [
       "\n",
       "Files | Matches | \n",
       "|---|---|---|---|---|---|---|---|---|---|\n",
       "| cv000_29590.txt                                                                                                                                |  tim burton     ,  heather graham ,  spawn          ,  jack           ,  batman         ,  casper         ,  set            ,  ghost           | \n",
       "| cv001_18431.txt              |  bill murray ,  jock         | \n",
       "| cv002_15918.txt |  meg ryan       | \n",
       "| cv003_11664.txt                                                                                                |  paul newman  ,  roy scheider ,  mayor        ,  nemesis      ,  chief        ,  presence     ,  late          | \n",
       "| cv004_11636.txt                                                              |  bruce lee ,  spawn     ,  general   ,  set       ,  scream    ,  era        | \n",
       "| cv005_29443.txt                                                                     |  eriq ebouaney ,  prophet       ,  raoul         ,  death         ,  justice        | \n",
       "| cv006_15448.txt                                   |  jennifer lien ,  avery brooks  ,  problem        | \n",
       "| cv007_4968.txt                                                                                                        |  woody allen   ,  alec baldwin  ,  madeline kahn ,  clown         ,  presence      ,  riot          ,  lord           | \n",
       "| cv008_29435.txt                 |  general ,  dog     ,  late     | \n",
       "| cv009_29592.txt                             |  gem   ,  chief ,  death ,  tiger ,  drama  | \n",
       "\n",
       "\n"
      ],
      "text/plain": [
       "   Files          \n",
       "1  cv000_29590.txt\n",
       "2  cv001_18431.txt\n",
       "3  cv002_15918.txt\n",
       "4  cv003_11664.txt\n",
       "5  cv004_11636.txt\n",
       "6  cv005_29443.txt\n",
       "7  cv006_15448.txt\n",
       "8  cv007_4968.txt \n",
       "9  cv008_29435.txt\n",
       "10 cv009_29592.txt\n",
       "   Matches                                                                                                                                       \n",
       "1   tim burton     ,  heather graham ,  spawn          ,  jack           ,  batman         ,  casper         ,  set            ,  ghost          \n",
       "2   bill murray ,  jock                                                                                                                          \n",
       "3   meg ryan                                                                                                                                     \n",
       "4   paul newman  ,  roy scheider ,  mayor        ,  nemesis      ,  chief        ,  presence     ,  late                                         \n",
       "5   bruce lee ,  spawn     ,  general   ,  set       ,  scream    ,  era                                                                         \n",
       "6   eriq ebouaney ,  prophet       ,  raoul         ,  death         ,  justice                                                                  \n",
       "7   jennifer lien ,  avery brooks  ,  problem                                                                                                    \n",
       "8   woody allen   ,  alec baldwin  ,  madeline kahn ,  clown         ,  presence      ,  riot          ,  lord                                   \n",
       "9   general ,  dog     ,  late                                                                                                                   \n",
       "10  gem   ,  chief ,  death ,  tiger ,  drama                                                                                                    "
      ]
     },
     "metadata": {},
     "output_type": "display_data"
    }
   ],
   "source": [
    "allMatches = mergeAllMatchesInLists(matches)\n",
    "head(allMatches,10)"
   ]
  },
  {
   "cell_type": "code",
   "execution_count": 44,
   "metadata": {},
   "outputs": [
    {
     "data": {
      "text/html": [
       "<table>\n",
       "<thead><tr><th scope=col>Files</th><th scope=col>Matches</th></tr></thead>\n",
       "<tbody>\n",
       "\t<tr><td>cv000_29590.txt                                                                                                                                                                                                                                                                                                                                                                                                                                                                                                                                                                      </td><td>alan moore         , eddie campbell     , moore              , campbell           , jack               , michael jackson    , albert             , allen hughes       , peter godley       , robbie coltrane    , frederick abberline, johnny depp        , abberline          , mary kelly         , heather graham     , terry hayes        , rafael yglesias    , steve guttenberg   , tim burton         , marilyn manson     , peter deming       , martin childs      , depp               , ians holm          , joe gould          , richardson         , graham             </td></tr>\n",
       "\t<tr><td>cv001_18431.txt                                                                                                                                                                                                                                                                                                                                                                                                               </td><td>matthew broderick       , reese witherspoon       , george washington carver, tracy flick             , paul                    , max fischer             , bill murray             , broderick               , witherspoon             , jessica campbell        , tammy                   , rooney                  , campbell                , alexander payne         , tracy                   , m                       </td></tr>\n",
       "\t<tr><td>cv002_15918.txt                                                                                                                       </td><td>ryan           , hanks          , tom hanks      , joe fox        , meg ryan       , kathleen kelley, fox            , kelley         </td></tr>\n",
       "\t<tr><td>cv003_11664.txt                                                                                                                                                                                                                                                                                                                                                                                                             </td><td>john williams   , steven spielberg, spielberg       , williams        , martin brody    , roy scheider    , larry vaughn    , murray hamilton , brody           , matt hooper     , richard dreyfuss, hooper          , vaughn          , quint           , robert shaw     , hitchcock       , scheider        , dreyfuss        , shaw            , robert redford  , paul newman     , duddy kravitz   , ahab            </td></tr>\n",
       "\t<tr><td>cv004_11636.txt                                                                                                                                                                                           </td><td>herb           , jackie chan    , barry sanders  , sanders        , jackie         , chan           , bruce lee      , tim allen      , lawrence kazdan, john williams  , spielberg      , george lucas   </td></tr>\n",
       "\t<tr><td>cv005_29443.txt                                                                                                                                                                                                       </td><td>raoul peck      , lumumba         , patrice lumumba , eriq ebouaney   , helmer peck     , peck            , pascal bonitzer , patrice         , joseph kasa vubu, maka kotto      , moise tschombe  , pascal nzonzi   </td></tr>\n",
       "\t<tr><td>cv006_15448.txt                                                                                                                                                                                                                                              </td><td>tony kaye      , edward norton  , norton         , derek vinyard  , danny          , edward furlong , beverly dangelo, davin          , jennifer lien  , derek          , kaye           , avery brooks   , furlong        , dangelo        , lien           </td></tr>\n",
       "\t<tr><td>cv007_4968.txt                                                                                                                                                                                                                                                                                                                                      </td><td>betsy           , molly ringwald  , alan alda       , ringwald        , alda            , dylan walsh     , walsh           , madeline kahn   , ally sheedy     , sheedy          , anthony lapaglia, lapaglia        , stevie dee      , robert de niro  , alec baldwin    , de niro         , joe pesci       , catherine ohara , woody allen     </td></tr>\n",
       "\t<tr><td>cv008_29435.txt                                                                                                                                                                                     </td><td>lumumba         , janssens        , rudi delhem     , moise tshombe   , pascal nzonzi   , mobutu          , joseph kasa vubu, maka kotto      , peck            , bonitzer        , ebouaney        </td></tr>\n",
       "\t<tr><td>cv009_29592.txt                                                                                                                                                                   </td><td>schwartznager, stallone     , van damme    , rongguang yu , wong fei-hong, jackie chan  , fei-hong     , sze-man tsang, wong kei-ying, yen chi dan  , yuen wo ping , fox          </td></tr>\n",
       "</tbody>\n",
       "</table>\n"
      ],
      "text/latex": [
       "\\begin{tabular}{r|ll}\n",
       " Files & Matches\\\\\n",
       "\\hline\n",
       "\t cv000\\_29590.txt                                                                                                                                                                                                                                                                                                                                                                                                                                                                                                                                                                     & alan moore         , eddie campbell     , moore              , campbell           , jack               , michael jackson    , albert             , allen hughes       , peter godley       , robbie coltrane    , frederick abberline, johnny depp        , abberline          , mary kelly         , heather graham     , terry hayes        , rafael yglesias    , steve guttenberg   , tim burton         , marilyn manson     , peter deming       , martin childs      , depp               , ians holm          , joe gould          , richardson         , graham             \\\\\n",
       "\t cv001\\_18431.txt                                                                                                                                                                                                                                                                                                                                                                                                              & matthew broderick       , reese witherspoon       , george washington carver, tracy flick             , paul                    , max fischer             , bill murray             , broderick               , witherspoon             , jessica campbell        , tammy                   , rooney                  , campbell                , alexander payne         , tracy                   , m                       \\\\\n",
       "\t cv002\\_15918.txt                                                                                                                      & ryan           , hanks          , tom hanks      , joe fox        , meg ryan       , kathleen kelley, fox            , kelley         \\\\\n",
       "\t cv003\\_11664.txt                                                                                                                                                                                                                                                                                                                                                                                                            & john williams   , steven spielberg, spielberg       , williams        , martin brody    , roy scheider    , larry vaughn    , murray hamilton , brody           , matt hooper     , richard dreyfuss, hooper          , vaughn          , quint           , robert shaw     , hitchcock       , scheider        , dreyfuss        , shaw            , robert redford  , paul newman     , duddy kravitz   , ahab            \\\\\n",
       "\t cv004\\_11636.txt                                                                                                                                                                                          & herb           , jackie chan    , barry sanders  , sanders        , jackie         , chan           , bruce lee      , tim allen      , lawrence kazdan, john williams  , spielberg      , george lucas   \\\\\n",
       "\t cv005\\_29443.txt                                                                                                                                                                                                      & raoul peck      , lumumba         , patrice lumumba , eriq ebouaney   , helmer peck     , peck            , pascal bonitzer , patrice         , joseph kasa vubu, maka kotto      , moise tschombe  , pascal nzonzi   \\\\\n",
       "\t cv006\\_15448.txt                                                                                                                                                                                                                                             & tony kaye      , edward norton  , norton         , derek vinyard  , danny          , edward furlong , beverly dangelo, davin          , jennifer lien  , derek          , kaye           , avery brooks   , furlong        , dangelo        , lien           \\\\\n",
       "\t cv007\\_4968.txt                                                                                                                                                                                                                                                                                                                                     & betsy           , molly ringwald  , alan alda       , ringwald        , alda            , dylan walsh     , walsh           , madeline kahn   , ally sheedy     , sheedy          , anthony lapaglia, lapaglia        , stevie dee      , robert de niro  , alec baldwin    , de niro         , joe pesci       , catherine ohara , woody allen     \\\\\n",
       "\t cv008\\_29435.txt                                                                                                                                                                                    & lumumba         , janssens        , rudi delhem     , moise tshombe   , pascal nzonzi   , mobutu          , joseph kasa vubu, maka kotto      , peck            , bonitzer        , ebouaney        \\\\\n",
       "\t cv009\\_29592.txt                                                                                                                                                                  & schwartznager, stallone     , van damme    , rongguang yu , wong fei-hong, jackie chan  , fei-hong     , sze-man tsang, wong kei-ying, yen chi dan  , yuen wo ping , fox          \\\\\n",
       "\\end{tabular}\n"
      ],
      "text/markdown": [
       "\n",
       "Files | Matches | \n",
       "|---|---|---|---|---|---|---|---|---|---|\n",
       "| cv000_29590.txt                                                                                                                                                                                                                                                                                                                                                                                                                                                                                                                                                                       | alan moore         , eddie campbell     , moore              , campbell           , jack               , michael jackson    , albert             , allen hughes       , peter godley       , robbie coltrane    , frederick abberline, johnny depp        , abberline          , mary kelly         , heather graham     , terry hayes        , rafael yglesias    , steve guttenberg   , tim burton         , marilyn manson     , peter deming       , martin childs      , depp               , ians holm          , joe gould          , richardson         , graham              | \n",
       "| cv001_18431.txt                                                                                                                                                                                                                                                                                                                                                                                                                | matthew broderick       , reese witherspoon       , george washington carver, tracy flick             , paul                    , max fischer             , bill murray             , broderick               , witherspoon             , jessica campbell        , tammy                   , rooney                  , campbell                , alexander payne         , tracy                   , m                        | \n",
       "| cv002_15918.txt                                                                                                                        | ryan           , hanks          , tom hanks      , joe fox        , meg ryan       , kathleen kelley, fox            , kelley          | \n",
       "| cv003_11664.txt                                                                                                                                                                                                                                                                                                                                                                                                              | john williams   , steven spielberg, spielberg       , williams        , martin brody    , roy scheider    , larry vaughn    , murray hamilton , brody           , matt hooper     , richard dreyfuss, hooper          , vaughn          , quint           , robert shaw     , hitchcock       , scheider        , dreyfuss        , shaw            , robert redford  , paul newman     , duddy kravitz   , ahab             | \n",
       "| cv004_11636.txt                                                                                                                                                                                            | herb           , jackie chan    , barry sanders  , sanders        , jackie         , chan           , bruce lee      , tim allen      , lawrence kazdan, john williams  , spielberg      , george lucas    | \n",
       "| cv005_29443.txt                                                                                                                                                                                                        | raoul peck      , lumumba         , patrice lumumba , eriq ebouaney   , helmer peck     , peck            , pascal bonitzer , patrice         , joseph kasa vubu, maka kotto      , moise tschombe  , pascal nzonzi    | \n",
       "| cv006_15448.txt                                                                                                                                                                                                                                               | tony kaye      , edward norton  , norton         , derek vinyard  , danny          , edward furlong , beverly dangelo, davin          , jennifer lien  , derek          , kaye           , avery brooks   , furlong        , dangelo        , lien            | \n",
       "| cv007_4968.txt                                                                                                                                                                                                                                                                                                                                       | betsy           , molly ringwald  , alan alda       , ringwald        , alda            , dylan walsh     , walsh           , madeline kahn   , ally sheedy     , sheedy          , anthony lapaglia, lapaglia        , stevie dee      , robert de niro  , alec baldwin    , de niro         , joe pesci       , catherine ohara , woody allen      | \n",
       "| cv008_29435.txt                                                                                                                                                                                      | lumumba         , janssens        , rudi delhem     , moise tshombe   , pascal nzonzi   , mobutu          , joseph kasa vubu, maka kotto      , peck            , bonitzer        , ebouaney         | \n",
       "| cv009_29592.txt                                                                                                                                                                    | schwartznager, stallone     , van damme    , rongguang yu , wong fei-hong, jackie chan  , fei-hong     , sze-man tsang, wong kei-ying, yen chi dan  , yuen wo ping , fox           | \n",
       "\n",
       "\n"
      ],
      "text/plain": [
       "   Files          \n",
       "1  cv000_29590.txt\n",
       "2  cv001_18431.txt\n",
       "3  cv002_15918.txt\n",
       "4  cv003_11664.txt\n",
       "5  cv004_11636.txt\n",
       "6  cv005_29443.txt\n",
       "7  cv006_15448.txt\n",
       "8  cv007_4968.txt \n",
       "9  cv008_29435.txt\n",
       "10 cv009_29592.txt\n",
       "   Matches                                                                                                                                                                                                                                                                                                                                                                                                                                                                                                                                                                              \n",
       "1  alan moore         , eddie campbell     , moore              , campbell           , jack               , michael jackson    , albert             , allen hughes       , peter godley       , robbie coltrane    , frederick abberline, johnny depp        , abberline          , mary kelly         , heather graham     , terry hayes        , rafael yglesias    , steve guttenberg   , tim burton         , marilyn manson     , peter deming       , martin childs      , depp               , ians holm          , joe gould          , richardson         , graham             \n",
       "2  matthew broderick       , reese witherspoon       , george washington carver, tracy flick             , paul                    , max fischer             , bill murray             , broderick               , witherspoon             , jessica campbell        , tammy                   , rooney                  , campbell                , alexander payne         , tracy                   , m                                                                                                                                                                              \n",
       "3  ryan           , hanks          , tom hanks      , joe fox        , meg ryan       , kathleen kelley, fox            , kelley                                                                                                                                                                                                                                                                                                                                                                                                                                                        \n",
       "4  john williams   , steven spielberg, spielberg       , williams        , martin brody    , roy scheider    , larry vaughn    , murray hamilton , brody           , matt hooper     , richard dreyfuss, hooper          , vaughn          , quint           , robert shaw     , hitchcock       , scheider        , dreyfuss        , shaw            , robert redford  , paul newman     , duddy kravitz   , ahab                                                                                                                                                                     \n",
       "5  herb           , jackie chan    , barry sanders  , sanders        , jackie         , chan           , bruce lee      , tim allen      , lawrence kazdan, john williams  , spielberg      , george lucas                                                                                                                                                                                                                                                                                                                                                                              \n",
       "6  raoul peck      , lumumba         , patrice lumumba , eriq ebouaney   , helmer peck     , peck            , pascal bonitzer , patrice         , joseph kasa vubu, maka kotto      , moise tschombe  , pascal nzonzi                                                                                                                                                                                                                                                                                                                                                                  \n",
       "7  tony kaye      , edward norton  , norton         , derek vinyard  , danny          , edward furlong , beverly dangelo, davin          , jennifer lien  , derek          , kaye           , avery brooks   , furlong        , dangelo        , lien                                                                                                                                                                                                                                                                                                                                   \n",
       "8  betsy           , molly ringwald  , alan alda       , ringwald        , alda            , dylan walsh     , walsh           , madeline kahn   , ally sheedy     , sheedy          , anthony lapaglia, lapaglia        , stevie dee      , robert de niro  , alec baldwin    , de niro         , joe pesci       , catherine ohara , woody allen                                                                                                                                                                                                                                      \n",
       "9  lumumba         , janssens        , rudi delhem     , moise tshombe   , pascal nzonzi   , mobutu          , joseph kasa vubu, maka kotto      , peck            , bonitzer        , ebouaney                                                                                                                                                                                                                                                                                                                                                                                         \n",
       "10 schwartznager, stallone     , van damme    , rongguang yu , wong fei-hong, jackie chan  , fei-hong     , sze-man tsang, wong kei-ying, yen chi dan  , yuen wo ping , fox                                                                                                                                                                                                                                                                                                                                                                                                             "
      ]
     },
     "metadata": {},
     "output_type": "display_data"
    }
   ],
   "source": [
    "goldStandard = read.table(file = \"goldStandard.csv\", quote = \"\", na.strings=c(\"\"), colClasses=\"character\", sep=\";\")\n",
    "\n",
    "allMatchesGold = mergeGoldStandardInLists(goldStandard)\n",
    "head(allMatchesGold,10)"
   ]
  },
  {
   "cell_type": "code",
   "execution_count": 45,
   "metadata": {},
   "outputs": [
    {
     "data": {
      "text/html": [
       "<table>\n",
       "<thead><tr><th scope=col>Precision</th><th scope=col>Recall</th><th scope=col>Fmeasure</th></tr></thead>\n",
       "<tbody>\n",
       "\t<tr><td>0.2494759 </td><td>0.09803041</td><td>0.1407527 </td></tr>\n",
       "</tbody>\n",
       "</table>\n"
      ],
      "text/latex": [
       "\\begin{tabular}{r|lll}\n",
       " Precision & Recall & Fmeasure\\\\\n",
       "\\hline\n",
       "\t 0.2494759  & 0.09803041 & 0.1407527 \\\\\n",
       "\\end{tabular}\n"
      ],
      "text/markdown": [
       "\n",
       "Precision | Recall | Fmeasure | \n",
       "|---|\n",
       "| 0.2494759  | 0.09803041 | 0.1407527  | \n",
       "\n",
       "\n"
      ],
      "text/plain": [
       "  Precision Recall     Fmeasure \n",
       "1 0.2494759 0.09803041 0.1407527"
      ]
     },
     "metadata": {},
     "output_type": "display_data"
    }
   ],
   "source": [
    "metrics = calculateMetrics(allMatches, allMatchesGold)\n",
    "metrics"
   ]
  },
  {
   "cell_type": "markdown",
   "metadata": {},
   "source": [
    "### The use of a gazetteer for named entity recognition is a kind of brutal-force search which the effect is improved by the DBpedia dictionaries about specific key-words. \n",
    "\n",
    "### Benefits:\n",
    "\n",
    "* Seach tools like DBpedia allows a more specific search\n",
    "* Easier to automatize\n",
    "* A bigger recall measure than using lexical-syntactic patterns\n",
    "\n",
    "### Disadvantages\n",
    "\n",
    "* Slower search because it demands a lot of resources\n",
    "* A lower precision\n",
    "* Not always easy to find the best DBpedia resource"
   ]
  },
  {
   "cell_type": "code",
   "execution_count": null,
   "metadata": {},
   "outputs": [],
   "source": []
  }
 ],
 "metadata": {
  "kernelspec": {
   "display_name": "R",
   "language": "R",
   "name": "ir"
  },
  "language_info": {
   "codemirror_mode": "r",
   "file_extension": ".r",
   "mimetype": "text/x-r-source",
   "name": "R",
   "pygments_lexer": "r",
   "version": "3.5.1"
  }
 },
 "nbformat": 4,
 "nbformat_minor": 2
}
