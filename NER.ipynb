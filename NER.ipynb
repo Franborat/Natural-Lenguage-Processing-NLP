{
 "cells": [
  {
   "cell_type": "markdown",
   "metadata": {},
   "source": [
    "## Load required libraries"
   ]
  },
  {
   "cell_type": "code",
   "execution_count": 1,
   "metadata": {},
   "outputs": [],
   "source": [
    "# Needed for OutOfMemoryError: Java heap space \n",
    "library(rJava)\n",
    ".jinit(parameters=\"-Xmx4g\")\n",
    "# If there are more memory problems, invoke gc() after the POS tagging\n",
    "\n",
    "library(NLP) \n",
    "library(openNLP) \n",
    "library(openNLPmodels.en)\n",
    "library(tm)\n",
    "library(stringr)"
   ]
  },
  {
   "cell_type": "markdown",
   "metadata": {},
   "source": [
    "## Auxiliary Functions"
   ]
  },
  {
   "cell_type": "code",
   "execution_count": 2,
   "metadata": {},
   "outputs": [],
   "source": [
    "# Returns annotations for the text document: word, sentence, part-of-speech, and Penn Treebank parse annotations\n",
    "\n",
    "getAnnotationsFromDocument = function(doc){\n",
    "  x=as.String(doc)\n",
    "  sent_token_annotator <- Maxent_Sent_Token_Annotator()\n",
    "  word_token_annotator <- Maxent_Word_Token_Annotator()\n",
    "  pos_tag_annotator <- Maxent_POS_Tag_Annotator()\n",
    "  y1 <- annotate(x, list(sent_token_annotator, word_token_annotator))\n",
    "  y2 <- annotate(x, pos_tag_annotator, y1)\n",
    "  # parse_annotator <- Parse_Annotator()\n",
    "  # y3 <- annotate(x, parse_annotator, y2)\n",
    "  return(y2)  \n",
    "} \n",
    "\n",
    "# Returns the text document merged with the annotations\n",
    "\n",
    "getAnnotatedMergedDocument = function(doc,annotations){\n",
    "  x=as.String(doc)\n",
    "  y2w <- subset(annotations, type == \"word\")\n",
    "  tags <- sapply(y2w$features, '[[', \"POS\")\n",
    "  r1 <- sprintf(\"%s/%s\", x[y2w], tags)\n",
    "  r2 <- paste(r1, collapse = \" \")\n",
    "  return(r2)  \n",
    "} \n",
    "\n",
    "# Returns the text document along with its annotations in an AnnotatedPlainTextDocument\n",
    "\n",
    "getAnnotatedPlainTextDocument = function(doc,annotations){\n",
    "  x=as.String(doc)\n",
    "  a = AnnotatedPlainTextDocument(x,annotations)\n",
    "  return(a)  \n",
    "} \n",
    "\n",
    "# detectPatternOnDocument returns the pattern detected on an AnnotatedPlainTextDocument\n",
    "\n",
    "detectPatternOnDocument <- function(doc, pattern) {\n",
    "  x=as.String(doc)\n",
    "  res=str_match(x,pattern)\n",
    "  \n",
    "  if (length(res)==1){\n",
    "    return (res)\n",
    "  } else {\n",
    "    if (all(is.na(res[,2:length(res)])))\n",
    "      return (NA)\n",
    "    else {\n",
    "      ret=list()\n",
    "      for (i in 2:length(res)){\n",
    "        ret = paste(ret,res[i])\n",
    "      }\n",
    "      return(ret)\n",
    "    }\n",
    "  }\n",
    "}\n",
    "\n",
    "# detectPatternOnDocumentWithContext returns the pattern detected on an AnnotatedPlainTextDocument with some context.\n",
    "\n",
    "detectPatternOnDocumentWithContext <- function(doc, pattern) {\n",
    "  txt=as.String(doc)\n",
    "  number=50\n",
    "  coord=str_locate(txt,pattern)\n",
    "  res3=substr(txt,coord[1]-number,coord[2]+number)\n",
    "  return (res3)\n",
    "}\n",
    "\n",
    "# detectPatternsInCorpus returns a data frame with all the patterns detected in a corpus.\n",
    "\n",
    "detectPatternsInCorpus = function(corpus, patterns){\n",
    "  vallEntities <- data.frame(matrix(NA, ncol = length(patterns)+1, \n",
    "                                    nrow = length(corpus)))\n",
    "  names(vallEntities) <- c(\"File\",patterns)\n",
    "  for (i in 1:length(patterns)) {\n",
    "    vallEntities[,i+1]=unlist(lapply(corpus, detectPatternOnDocument, \n",
    "                                     pattern=patterns[i]))\n",
    "  }\n",
    "  for (i in 1:length(corpus)) {\n",
    "    vallEntities$File[i]=meta(corpus[[i]])$id\n",
    "  }\n",
    "  return (vallEntities)  \n",
    "}\n",
    "\n",
    "# detectPatternsInTaggedCorpus returns a data frame with all the patterns detected in an annotated corpus.\n",
    "\n",
    "detectPatternsInTaggedCorpus = function(corpus, taggedCorpus, patterns){\n",
    "  vallEntities <- data.frame(matrix(NA, ncol = length(patterns)+1, \n",
    "                                    nrow = length(corpus)))\n",
    "  names(vallEntities) <- c(\"File\",patterns)\n",
    "  for (i in 1:length(patterns)) {\n",
    "    vallEntities[,i+1]=unlist(lapply(taggedCorpus, detectPatternOnDocument, \n",
    "                                     pattern=patterns[i]))\n",
    "  }\n",
    "  for (i in 1:length(corpus)) {\n",
    "    vallEntities$File[i]=meta(corpus[[i]])$id\n",
    "  }\n",
    "  return (vallEntities)  \n",
    "}\n",
    "\n",
    "# countMatchesPerColumn returns the number of matches per pattern/column. Counts the number of columns with non-NA values for each pattern.\n",
    "\n",
    "countMatchesPerColumn = function (df) {\n",
    "  entityCountPerPattern <- data.frame(matrix(NA, ncol = 2, \n",
    "                                             nrow = length(names(df))-1))\n",
    "  names(entityCountPerPattern) <- c(\"Entity\",\"Count\")\n",
    "  \n",
    "  for (i in 2:length(names(df))) {\n",
    "    entityCountPerPattern$Entity[i-1] = names(df)[i]\n",
    "    entityCountPerPattern$Count[i-1] = nrow(subset(df, !is.na(df[i])))\n",
    "  }\n",
    "  return (entityCountPerPattern)\n",
    "}\n",
    "\n",
    "# countMatchesPerRow returns the number of entities per file/row. Counts the number of rows with non-NA values for each file.\n",
    "\n",
    "countMatchesPerRow = function (df) {\n",
    "  entityCountPerFile <- data.frame(matrix(NA, ncol = 2, nrow = nrow(df)))\n",
    "  names(entityCountPerFile) <- c(\"File\",\"Count\")\n",
    "  \n",
    "  for (i in 1:nrow(df)) {\n",
    "    entityCountPerFile$File[i] = df$File[i]\n",
    "    entityCountPerFile$Count[i] = length(Filter(Negate(is.na),df[i,2:length(df[i,])]))\n",
    "  }\n",
    "  return (entityCountPerFile[entityCountPerFile[2]!=0,])\n",
    "}\n",
    "\n",
    "# printMatchesPerPattern prints the matches found per pattern.\n",
    "\n",
    "printMatchesPerPattern = function (patterns, matches) {\n",
    "  for (i in 1:length(patterns)){\n",
    "    print(paste(\"PATTERN: \",patterns[i]))\n",
    "    strings = matches[,i+1][!is.na(unlist(matches[,i+1]))]\n",
    "    print(strings)\n",
    "    print(\" \") \n",
    "  }\n",
    "}\n",
    "\n",
    "# mergeAllMatchesInLists returns a data frame with all the files and their matches in a single list per file.\n",
    "\n",
    "mergeAllMatchesInLists = function (df) {\n",
    "  matchesPerFile = rep(list(list()), nrow(df))\n",
    "  \n",
    "  for (i in 1:nrow(df)) {    \n",
    "    matches=as.list(unname(unlist(Filter(Negate(is.na),df[i,2:length(df[i,])]))))\n",
    "    matchesPerFile[[i]]=append(matchesPerFile[[i]],matches)\n",
    "  }\n",
    "  \n",
    "  files = df[,1]\n",
    "  matches = matchesPerFile\n",
    "  \n",
    "  allMatches<- data.frame(matrix(NA, ncol = 2, nrow = nrow(df)))\n",
    "  names(allMatches) <- c(\"Files\",\"Matches\")\n",
    "  \n",
    "  allMatches$Files=files\n",
    "  allMatches$Matches=matches\n",
    "  \n",
    "  return (allMatches)\n",
    "}\n",
    "\n",
    "# mergeGoldStandardInLists returns a data frame with all the files and the gold standard matches in a single list per file.\n",
    "\n",
    "mergeGoldStandardInLists = function (df) {\n",
    "  matchesPerFile = rep(list(list()), nrow(df))\n",
    "  \n",
    "  for (i in 1:nrow(df)) {    \n",
    "    matches=as.list(unlist(Filter(Negate(is.na),df[i,2:length(df)])))\n",
    "    matchesPerFile[[i]]=append(matchesPerFile[[i]],matches)\n",
    "  }\n",
    "  \n",
    "  files = df[,1]\n",
    "  matches = matchesPerFile\n",
    "  \n",
    "  allMatches<- data.frame(matrix(NA, ncol = 2, nrow = nrow(df)))\n",
    "  names(allMatches) <- c(\"Files\",\"Matches\")\n",
    "  \n",
    "  allMatches$Files=files\n",
    "  allMatches$Matches=matches\n",
    "  \n",
    "  return (allMatches)\n",
    "}\n",
    "\n",
    "# calculateMetrics calculates precision, recall and f-measure according to a gold standard.\n",
    "\n",
    "calculateMetrics = function (matches, matches.gs) {\n",
    "  \n",
    "  metrics<- data.frame(matrix(NA, ncol = 3, nrow = 1))\n",
    "  names(metrics) <- c(\"Precision\",\"Recall\",\"Fmeasure\")\n",
    "  \n",
    "  numCorrect = 0\n",
    "  allAnswers = 0\n",
    "  possibleAnswers = 0\n",
    "  \n",
    "  for (i in 1:nrow(matches)) {    \n",
    "    if (length(matches.gs$Matches[[i]])!=0) {\n",
    "      l = str_trim(unlist(matches[i,2]))\n",
    "      l.gs = unname(unlist(matches.gs[i,2]))\n",
    "      intersection = intersect(l, l.gs)\n",
    "      numCorrect = numCorrect + length(intersect(l, l.gs))\n",
    "      allAnswers = allAnswers + length (l)\n",
    "      possibleAnswers = possibleAnswers + length(l.gs)    \n",
    "    }\n",
    "  }\n",
    "  \n",
    "  metrics$Precision = numCorrect / allAnswers\n",
    "  metrics$Recall = numCorrect / possibleAnswers\n",
    "  \n",
    "  beta = 1\n",
    "  metrics$Fmeasure= ((sqrt(beta)+1) * metrics$Precision * metrics$Recall) / \n",
    "    ((sqrt(beta)*metrics$Precision) + metrics$Recall)\n",
    "  \n",
    "  return(metrics)\n",
    "}"
   ]
  },
  {
   "cell_type": "markdown",
   "metadata": {},
   "source": [
    "## Load the corpus"
   ]
  },
  {
   "cell_type": "code",
   "execution_count": 3,
   "metadata": {},
   "outputs": [],
   "source": [
    "source.pos = DirSource(\"/Users/franlosada/Documents/EIT 1st year/Intelligent Systems/naturalLenguage/review_polarity/txt_sentoken/pos\", encoding = \"UTF-8\")\n",
    "corpus = Corpus(source.pos)"
   ]
  },
  {
   "cell_type": "markdown",
   "metadata": {},
   "source": [
    "## Annotate corpus"
   ]
  },
  {
   "cell_type": "code",
   "execution_count": 4,
   "metadata": {},
   "outputs": [],
   "source": [
    "annotations = lapply(corpus, getAnnotationsFromDocument)"
   ]
  },
  {
   "cell_type": "code",
   "execution_count": 5,
   "metadata": {},
   "outputs": [
    {
     "data": {
      "text/plain": [
       " id type     start end  features\n",
       "  1 sentence     1  265 constituents=<<integer,54>>\n",
       "  2 sentence   268  439 constituents=<<integer,36>>\n",
       "  3 sentence   442  591 constituents=<<integer,27>>\n",
       "  4 sentence   594  797 constituents=<<integer,44>>\n",
       "  5 sentence   800  939 constituents=<<integer,28>>\n",
       "  6 sentence   942 1299 constituents=<<integer,70>>"
      ]
     },
     "metadata": {},
     "output_type": "display_data"
    }
   ],
   "source": [
    "head(annotations[[1]])"
   ]
  },
  {
   "cell_type": "code",
   "execution_count": 6,
   "metadata": {},
   "outputs": [],
   "source": [
    "corpus.tagged = Map(getAnnotatedPlainTextDocument, corpus, annotations)"
   ]
  },
  {
   "cell_type": "code",
   "execution_count": 7,
   "metadata": {},
   "outputs": [],
   "source": [
    "corpus.taggedText = Map(getAnnotatedMergedDocument, corpus, annotations)"
   ]
  },
  {
   "cell_type": "markdown",
   "metadata": {},
   "source": [
    "## Patterns Definition"
   ]
  },
  {
   "cell_type": "code",
   "execution_count": 11,
   "metadata": {},
   "outputs": [],
   "source": [
    "pattern3=c(\"created/VBN by/IN ([A-z]*)/NN ([A-z]*)/NN\")\n",
    "pattern3=c(pattern3,\"created/VBN by/IN [A-z]*/NN [A-z]*/NN \\\\(/-LRB- and/CC ([A-z]*)/JJ ([A-z]*)/NN\")\n",
    "pattern3=c(pattern3,\"screenwriter[s]?/NN[S]? ([A-z]*)/(?:NN[S]?|JJ) ([A-z]*)/(?:NN|JJ)\")\n",
    "pattern3=c(pattern3,\"cinematographer/NN(?: ,/,)? ([A-z]*)/NN ([A-z]*)/NN\")\n",
    "pattern3=c(pattern3,\"cinematographer/NN(?: ,/,)? ([A-z]*)/NN ([A-z]*)/IN ([A-z]*)/NN\")\n",
    "pattern3=c(pattern3,\"oscar/NN winner/NN ([A-z]*)/VBG ([A-z]*)/NNS\")\n",
    "pattern3=c(pattern3,\"director/NN ([A-z]*)/NN ([A-z]*)/NN\")\n",
    "pattern3=c(pattern3,\"filmmaker/NN ([A-z]*)/NN ([A-z]*)/NN\")\n",
    "pattern3=c(pattern3,\"played/VBN by/IN ([A-z]*)/VBD ([A-z]*)/NN\")\n",
    "pattern3=c(pattern3,\"[A-z]*/NN [A-z]*/NNS plays/VBZ ([A-z]*)/JJ ([A-z]*)/NN\")\n",
    "pattern3=c(pattern3,\", plays/VBZ ([A-z]*)/NN\")\n",
    "pattern3=c(pattern3,\"./. ([A-z]*)/NN plays/VBZ\")\n",
    "pattern3=c(pattern3,\"([A-z]*)/NN ([A-z]*)/NNS plays/VBZ [A-z]*/JJ [A-z]*/NN\")\n",
    "pattern3=c(pattern3,\"([A-z]*)/NN ([A-z]*)/NN plays/VBZ the/DT\")\n",
    "pattern3=c(pattern3,\"([A-z]*)/NN plays/VBZ the/DT\")\n",
    "pattern3=c(pattern3,\"performanced by/IN ([A-z]*)/NN ([A-z]*)/NN\")\n",
    "pattern3=c(pattern3,\"starring/VBG ([A-z]*)/NN ([A-z]*)/NN\")\n",
    "pattern3=c(pattern3,\"co-writer/NN ([A-z]*)/NN ([A-z]*)/NN\")"
   ]
  },
  {
   "cell_type": "code",
   "execution_count": 12,
   "metadata": {},
   "outputs": [],
   "source": [
    "allEntitiesNew = detectPatternsInTaggedCorpus(corpus, corpus.taggedText, pattern3)"
   ]
  },
  {
   "cell_type": "code",
   "execution_count": 13,
   "metadata": {},
   "outputs": [
    {
     "data": {
      "text/html": [
       "<table>\n",
       "<thead><tr><th scope=col>Entity</th><th scope=col>Count</th></tr></thead>\n",
       "<tbody>\n",
       "\t<tr><td>created/VBN by/IN ([A-z]*)/NN ([A-z]*)/NN                                     </td><td>  3                                                                           </td></tr>\n",
       "\t<tr><td>created/VBN by/IN [A-z]*/NN [A-z]*/NN \\(/-LRB- and/CC ([A-z]*)/JJ ([A-z]*)/NN</td><td>  1                                                                           </td></tr>\n",
       "\t<tr><td>screenwriter[s]?/NN[S]? ([A-z]*)/(?:NN[S]?|JJ) ([A-z]*)/(?:NN|JJ)             </td><td> 27                                                                           </td></tr>\n",
       "\t<tr><td>cinematographer/NN(?: ,/,)? ([A-z]*)/NN ([A-z]*)/NN                           </td><td> 22                                                                           </td></tr>\n",
       "\t<tr><td>cinematographer/NN(?: ,/,)? ([A-z]*)/NN ([A-z]*)/IN ([A-z]*)/NN               </td><td>  1                                                                           </td></tr>\n",
       "\t<tr><td>oscar/NN winner/NN ([A-z]*)/VBG ([A-z]*)/NNS                                  </td><td>  1                                                                           </td></tr>\n",
       "\t<tr><td>director/NN ([A-z]*)/NN ([A-z]*)/NN                                           </td><td>163                                                                           </td></tr>\n",
       "\t<tr><td>filmmaker/NN ([A-z]*)/NN ([A-z]*)/NN                                          </td><td>  1                                                                           </td></tr>\n",
       "\t<tr><td>played/VBN by/IN ([A-z]*)/VBD ([A-z]*)/NN                                     </td><td>  1                                                                           </td></tr>\n",
       "\t<tr><td>[A-z]*/NN [A-z]*/NNS plays/VBZ ([A-z]*)/JJ ([A-z]*)/NN                        </td><td>  1                                                                           </td></tr>\n",
       "\t<tr><td>, plays/VBZ ([A-z]*)/NN                                                       </td><td>  7                                                                           </td></tr>\n",
       "\t<tr><td>./. ([A-z]*)/NN plays/VBZ                                                     </td><td> 47                                                                           </td></tr>\n",
       "\t<tr><td>([A-z]*)/NN ([A-z]*)/NNS plays/VBZ [A-z]*/JJ [A-z]*/NN                        </td><td>  1                                                                           </td></tr>\n",
       "\t<tr><td>([A-z]*)/NN ([A-z]*)/NN plays/VBZ the/DT                                      </td><td>  5                                                                           </td></tr>\n",
       "\t<tr><td>([A-z]*)/NN plays/VBZ the/DT                                                  </td><td> 21                                                                           </td></tr>\n",
       "\t<tr><td>performanced by/IN ([A-z]*)/NN ([A-z]*)/NN                                    </td><td>  0                                                                           </td></tr>\n",
       "\t<tr><td>starring/VBG ([A-z]*)/NN ([A-z]*)/NN                                          </td><td> 17                                                                           </td></tr>\n",
       "\t<tr><td>co-writer/NN ([A-z]*)/NN ([A-z]*)/NN                                          </td><td>  6                                                                           </td></tr>\n",
       "</tbody>\n",
       "</table>\n"
      ],
      "text/latex": [
       "\\begin{tabular}{r|ll}\n",
       " Entity & Count\\\\\n",
       "\\hline\n",
       "\t created/VBN by/IN ({[}A-z{]}*)/NN ({[}A-z{]}*)/NN                                      &   3                                                                                   \\\\\n",
       "\t created/VBN by/IN {[}A-z{]}*/NN {[}A-z{]}*/NN \\textbackslash{}(/-LRB- and/CC ({[}A-z{]}*)/JJ ({[}A-z{]}*)/NN &   1                                                                                                          \\\\\n",
       "\t screenwriter{[}s{]}?/NN{[}S{]}? ({[}A-z{]}*)/(?:NN{[}S{]}?\\textbar{}JJ) ({[}A-z{]}*)/(?:NN\\textbar{}JJ)              &  27                                                                                                                   \\\\\n",
       "\t cinematographer/NN(?: ,/,)? ({[}A-z{]}*)/NN ({[}A-z{]}*)/NN                            &  22                                                                                   \\\\\n",
       "\t cinematographer/NN(?: ,/,)? ({[}A-z{]}*)/NN ({[}A-z{]}*)/IN ({[}A-z{]}*)/NN                &   1                                                                                       \\\\\n",
       "\t oscar/NN winner/NN ({[}A-z{]}*)/VBG ({[}A-z{]}*)/NNS                                   &   1                                                                                   \\\\\n",
       "\t director/NN ({[}A-z{]}*)/NN ({[}A-z{]}*)/NN                                            & 163                                                                                   \\\\\n",
       "\t filmmaker/NN ({[}A-z{]}*)/NN ({[}A-z{]}*)/NN                                           &   1                                                                                   \\\\\n",
       "\t played/VBN by/IN ({[}A-z{]}*)/VBD ({[}A-z{]}*)/NN                                      &   1                                                                                   \\\\\n",
       "\t {[}A-z{]}*/NN {[}A-z{]}*/NNS plays/VBZ ({[}A-z{]}*)/JJ ({[}A-z{]}*)/NN                         &   1                                                                                           \\\\\n",
       "\t , plays/VBZ ({[}A-z{]}*)/NN                                                        &   7                                                                               \\\\\n",
       "\t ./. ({[}A-z{]}*)/NN plays/VBZ                                                      &  47                                                                               \\\\\n",
       "\t ({[}A-z{]}*)/NN ({[}A-z{]}*)/NNS plays/VBZ {[}A-z{]}*/JJ {[}A-z{]}*/NN                         &   1                                                                                           \\\\\n",
       "\t ({[}A-z{]}*)/NN ({[}A-z{]}*)/NN plays/VBZ the/DT                                       &   5                                                                                   \\\\\n",
       "\t ({[}A-z{]}*)/NN plays/VBZ the/DT                                                   &  21                                                                               \\\\\n",
       "\t performanced by/IN ({[}A-z{]}*)/NN ({[}A-z{]}*)/NN                                     &   0                                                                                   \\\\\n",
       "\t starring/VBG ({[}A-z{]}*)/NN ({[}A-z{]}*)/NN                                           &  17                                                                                   \\\\\n",
       "\t co-writer/NN ({[}A-z{]}*)/NN ({[}A-z{]}*)/NN                                           &   6                                                                                   \\\\\n",
       "\\end{tabular}\n"
      ],
      "text/markdown": [
       "\n",
       "Entity | Count | \n",
       "|---|---|---|---|---|---|---|---|---|---|---|---|---|---|---|---|---|---|\n",
       "| created/VBN by/IN ([A-z]*)/NN ([A-z]*)/NN                                      |   3                                                                            | \n",
       "| created/VBN by/IN [A-z]*/NN [A-z]*/NN \\(/-LRB- and/CC ([A-z]*)/JJ ([A-z]*)/NN |   1                                                                            | \n",
       "| screenwriter[s]?/NN[S]? ([A-z]*)/(?:NN[S]?|JJ) ([A-z]*)/(?:NN|JJ)              |  27                                                                            | \n",
       "| cinematographer/NN(?: ,/,)? ([A-z]*)/NN ([A-z]*)/NN                            |  22                                                                            | \n",
       "| cinematographer/NN(?: ,/,)? ([A-z]*)/NN ([A-z]*)/IN ([A-z]*)/NN                |   1                                                                            | \n",
       "| oscar/NN winner/NN ([A-z]*)/VBG ([A-z]*)/NNS                                   |   1                                                                            | \n",
       "| director/NN ([A-z]*)/NN ([A-z]*)/NN                                            | 163                                                                            | \n",
       "| filmmaker/NN ([A-z]*)/NN ([A-z]*)/NN                                           |   1                                                                            | \n",
       "| played/VBN by/IN ([A-z]*)/VBD ([A-z]*)/NN                                      |   1                                                                            | \n",
       "| [A-z]*/NN [A-z]*/NNS plays/VBZ ([A-z]*)/JJ ([A-z]*)/NN                         |   1                                                                            | \n",
       "| , plays/VBZ ([A-z]*)/NN                                                        |   7                                                                            | \n",
       "| ./. ([A-z]*)/NN plays/VBZ                                                      |  47                                                                            | \n",
       "| ([A-z]*)/NN ([A-z]*)/NNS plays/VBZ [A-z]*/JJ [A-z]*/NN                         |   1                                                                            | \n",
       "| ([A-z]*)/NN ([A-z]*)/NN plays/VBZ the/DT                                       |   5                                                                            | \n",
       "| ([A-z]*)/NN plays/VBZ the/DT                                                   |  21                                                                            | \n",
       "| performanced by/IN ([A-z]*)/NN ([A-z]*)/NN                                     |   0                                                                            | \n",
       "| starring/VBG ([A-z]*)/NN ([A-z]*)/NN                                           |  17                                                                            | \n",
       "| co-writer/NN ([A-z]*)/NN ([A-z]*)/NN                                           |   6                                                                            | \n",
       "\n",
       "\n"
      ],
      "text/plain": [
       "   Entity                                                                        \n",
       "1  created/VBN by/IN ([A-z]*)/NN ([A-z]*)/NN                                     \n",
       "2  created/VBN by/IN [A-z]*/NN [A-z]*/NN \\\\(/-LRB- and/CC ([A-z]*)/JJ ([A-z]*)/NN\n",
       "3  screenwriter[s]?/NN[S]? ([A-z]*)/(?:NN[S]?|JJ) ([A-z]*)/(?:NN|JJ)             \n",
       "4  cinematographer/NN(?: ,/,)? ([A-z]*)/NN ([A-z]*)/NN                           \n",
       "5  cinematographer/NN(?: ,/,)? ([A-z]*)/NN ([A-z]*)/IN ([A-z]*)/NN               \n",
       "6  oscar/NN winner/NN ([A-z]*)/VBG ([A-z]*)/NNS                                  \n",
       "7  director/NN ([A-z]*)/NN ([A-z]*)/NN                                           \n",
       "8  filmmaker/NN ([A-z]*)/NN ([A-z]*)/NN                                          \n",
       "9  played/VBN by/IN ([A-z]*)/VBD ([A-z]*)/NN                                     \n",
       "10 [A-z]*/NN [A-z]*/NNS plays/VBZ ([A-z]*)/JJ ([A-z]*)/NN                        \n",
       "11 , plays/VBZ ([A-z]*)/NN                                                       \n",
       "12 ./. ([A-z]*)/NN plays/VBZ                                                     \n",
       "13 ([A-z]*)/NN ([A-z]*)/NNS plays/VBZ [A-z]*/JJ [A-z]*/NN                        \n",
       "14 ([A-z]*)/NN ([A-z]*)/NN plays/VBZ the/DT                                      \n",
       "15 ([A-z]*)/NN plays/VBZ the/DT                                                  \n",
       "16 performanced by/IN ([A-z]*)/NN ([A-z]*)/NN                                    \n",
       "17 starring/VBG ([A-z]*)/NN ([A-z]*)/NN                                          \n",
       "18 co-writer/NN ([A-z]*)/NN ([A-z]*)/NN                                          \n",
       "   Count\n",
       "1    3  \n",
       "2    1  \n",
       "3   27  \n",
       "4   22  \n",
       "5    1  \n",
       "6    1  \n",
       "7  163  \n",
       "8    1  \n",
       "9    1  \n",
       "10   1  \n",
       "11   7  \n",
       "12  47  \n",
       "13   1  \n",
       "14   5  \n",
       "15  21  \n",
       "16   0  \n",
       "17  17  \n",
       "18   6  "
      ]
     },
     "metadata": {},
     "output_type": "display_data"
    }
   ],
   "source": [
    "entityCountPerPatternNew = countMatchesPerColumn(allEntitiesNew)\n",
    "entityCountPerPatternNew"
   ]
  },
  {
   "cell_type": "code",
   "execution_count": 14,
   "metadata": {},
   "outputs": [
    {
     "data": {
      "image/png": "[encoded data removed]",
      "text/plain": [
       "Plot with title “Histogram of entityCountPerPatternNew$Count”"
      ]
     },
     "metadata": {},
     "output_type": "display_data"
    }
   ],
   "source": [
    "hist(entityCountPerPatternNew$Count)"
   ]
  },
  {
   "cell_type": "code",
   "execution_count": 15,
   "metadata": {},
   "outputs": [],
   "source": [
    "entityCountPerFileNew=countMatchesPerRow(allEntitiesNew)"
   ]
  },
  {
   "cell_type": "code",
   "execution_count": 16,
   "metadata": {},
   "outputs": [
    {
     "data": {
      "image/png": "[encoded data removed]",
      "text/plain": [
       "Plot with title “Histogram of entityCountPerFileNew$Count”"
      ]
     },
     "metadata": {},
     "output_type": "display_data"
    }
   ],
   "source": [
    "hist(entityCountPerFileNew$Count)"
   ]
  },
  {
   "cell_type": "markdown",
   "metadata": {},
   "source": [
    "## Write results to a file"
   ]
  },
  {
   "cell_type": "code",
   "execution_count": 17,
   "metadata": {},
   "outputs": [
    {
     "ename": "ERROR",
     "evalue": "Error in is.data.frame(x): objeto 'allEntities' no encontrado\n",
     "output_type": "error",
     "traceback": [
      "Error in is.data.frame(x): objeto 'allEntities' no encontrado\nTraceback:\n",
      "1. write.table(allEntities, file = \"allEntitiesNew.csv\", row.names = F, \n .     na = \"\", sep = \";\")",
      "2. is.data.frame(x)"
     ]
    }
   ],
   "source": [
    "write.table(allEntities, file = \"allEntitiesNew.csv\", row.names = F, na=\"\", sep=\";\")"
   ]
  },
  {
   "cell_type": "markdown",
   "metadata": {},
   "source": [
    "## Compare with a gold standard"
   ]
  },
  {
   "cell_type": "code",
   "execution_count": 18,
   "metadata": {},
   "outputs": [
    {
     "data": {
      "text/html": [
       "<table>\n",
       "<thead><tr><th scope=col>Files</th><th scope=col>Matches</th></tr></thead>\n",
       "<tbody>\n",
       "\t<tr><td>cv000_29590.txt                                                                    </td><td> alan moore    ,  eddie campbell,  terry hayes   ,  peter deming  ,  martin childs </td></tr>\n",
       "\t<tr><td>cv001_18431.txt   </td><td> matthew broderick</td></tr>\n",
       "\t<tr><td>cv002_15918.txt       </td><td> joe fox  ,  tom hanks</td></tr>\n",
       "\t<tr><td>cv003_11664.txt</td><td> shaw          </td></tr>\n",
       "\t<tr><td>cv004_11636.txt</td><td>NULL           </td></tr>\n",
       "\t<tr><td>cv005_29443.txt</td><td>NULL           </td></tr>\n",
       "</tbody>\n",
       "</table>\n"
      ],
      "text/latex": [
       "\\begin{tabular}{r|ll}\n",
       " Files & Matches\\\\\n",
       "\\hline\n",
       "\t cv000\\_29590.txt                                                                   &  alan moore    ,  eddie campbell,  terry hayes   ,  peter deming  ,  martin childs \\\\\n",
       "\t cv001\\_18431.txt  &  matthew broderick\\\\\n",
       "\t cv002\\_15918.txt      &  joe fox  ,  tom hanks\\\\\n",
       "\t cv003\\_11664.txt &  shaw            \\\\\n",
       "\t cv004\\_11636.txt & NULL             \\\\\n",
       "\t cv005\\_29443.txt & NULL             \\\\\n",
       "\\end{tabular}\n"
      ],
      "text/markdown": [
       "\n",
       "Files | Matches | \n",
       "|---|---|---|---|---|---|\n",
       "| cv000_29590.txt                                                                     |  alan moore    ,  eddie campbell,  terry hayes   ,  peter deming  ,  martin childs  | \n",
       "| cv001_18431.txt    |  matthew broderick | \n",
       "| cv002_15918.txt        |  joe fox  ,  tom hanks | \n",
       "| cv003_11664.txt |  shaw           | \n",
       "| cv004_11636.txt | NULL            | \n",
       "| cv005_29443.txt | NULL            | \n",
       "\n",
       "\n"
      ],
      "text/plain": [
       "  Files          \n",
       "1 cv000_29590.txt\n",
       "2 cv001_18431.txt\n",
       "3 cv002_15918.txt\n",
       "4 cv003_11664.txt\n",
       "5 cv004_11636.txt\n",
       "6 cv005_29443.txt\n",
       "  Matches                                                                            \n",
       "1  alan moore    ,  eddie campbell,  terry hayes   ,  peter deming  ,  martin childs \n",
       "2  matthew broderick                                                                 \n",
       "3  joe fox  ,  tom hanks                                                             \n",
       "4  shaw                                                                              \n",
       "5 NULL                                                                               \n",
       "6 NULL                                                                               "
      ]
     },
     "metadata": {},
     "output_type": "display_data"
    }
   ],
   "source": [
    "allMatchesNew = mergeAllMatchesInLists(allEntitiesNew)\n",
    "head(allMatchesNew)"
   ]
  },
  {
   "cell_type": "code",
   "execution_count": 19,
   "metadata": {},
   "outputs": [
    {
     "data": {
      "text/html": [
       "<table>\n",
       "<thead><tr><th scope=col>Files</th><th scope=col>Matches</th></tr></thead>\n",
       "<tbody>\n",
       "\t<tr><td>cv000_29590.txt                                                                                                                                                                                                                                                                                                                                                                                                                                                                                                                                                                      </td><td>alan moore         , eddie campbell     , moore              , campbell           , jack               , michael jackson    , albert             , allen hughes       , peter godley       , robbie coltrane    , frederick abberline, johnny depp        , abberline          , mary kelly         , heather graham     , terry hayes        , rafael yglesias    , steve guttenberg   , tim burton         , marilyn manson     , peter deming       , martin childs      , depp               , ians holm          , joe gould          , richardson         , graham             </td></tr>\n",
       "\t<tr><td>cv001_18431.txt                                                                                                                                                                                                                                                                                                                                                                                                               </td><td>matthew broderick       , reese witherspoon       , george washington carver, tracy flick             , paul                    , max fischer             , bill murray             , broderick               , witherspoon             , jessica campbell        , tammy                   , rooney                  , campbell                , alexander payne         , tracy                   , m                       </td></tr>\n",
       "\t<tr><td>cv002_15918.txt                                                                                                                       </td><td>ryan           , hanks          , tom hanks      , joe fox        , meg ryan       , kathleen kelley, fox            , kelley         </td></tr>\n",
       "\t<tr><td>cv003_11664.txt                                                                                                                                                                                                                                                                                                                                                                                                             </td><td>john williams   , steven spielberg, spielberg       , williams        , martin brody    , roy scheider    , larry vaughn    , murray hamilton , brody           , matt hooper     , richard dreyfuss, hooper          , vaughn          , quint           , robert shaw     , hitchcock       , scheider        , dreyfuss        , shaw            , robert redford  , paul newman     , duddy kravitz   , ahab            </td></tr>\n",
       "\t<tr><td>cv004_11636.txt                                                                                                                                                                                           </td><td>herb           , jackie chan    , barry sanders  , sanders        , jackie         , chan           , bruce lee      , tim allen      , lawrence kazdan, john williams  , spielberg      , george lucas   </td></tr>\n",
       "\t<tr><td>cv005_29443.txt                                                                                                                                                                                                       </td><td>raoul peck      , lumumba         , patrice lumumba , eriq ebouaney   , helmer peck     , peck            , pascal bonitzer , patrice         , joseph kasa vubu, maka kotto      , moise tschombe  , pascal nzonzi   </td></tr>\n",
       "</tbody>\n",
       "</table>\n"
      ],
      "text/latex": [
       "\\begin{tabular}{r|ll}\n",
       " Files & Matches\\\\\n",
       "\\hline\n",
       "\t cv000\\_29590.txt                                                                                                                                                                                                                                                                                                                                                                                                                                                                                                                                                                     & alan moore         , eddie campbell     , moore              , campbell           , jack               , michael jackson    , albert             , allen hughes       , peter godley       , robbie coltrane    , frederick abberline, johnny depp        , abberline          , mary kelly         , heather graham     , terry hayes        , rafael yglesias    , steve guttenberg   , tim burton         , marilyn manson     , peter deming       , martin childs      , depp               , ians holm          , joe gould          , richardson         , graham             \\\\\n",
       "\t cv001\\_18431.txt                                                                                                                                                                                                                                                                                                                                                                                                              & matthew broderick       , reese witherspoon       , george washington carver, tracy flick             , paul                    , max fischer             , bill murray             , broderick               , witherspoon             , jessica campbell        , tammy                   , rooney                  , campbell                , alexander payne         , tracy                   , m                       \\\\\n",
       "\t cv002\\_15918.txt                                                                                                                      & ryan           , hanks          , tom hanks      , joe fox        , meg ryan       , kathleen kelley, fox            , kelley         \\\\\n",
       "\t cv003\\_11664.txt                                                                                                                                                                                                                                                                                                                                                                                                            & john williams   , steven spielberg, spielberg       , williams        , martin brody    , roy scheider    , larry vaughn    , murray hamilton , brody           , matt hooper     , richard dreyfuss, hooper          , vaughn          , quint           , robert shaw     , hitchcock       , scheider        , dreyfuss        , shaw            , robert redford  , paul newman     , duddy kravitz   , ahab            \\\\\n",
       "\t cv004\\_11636.txt                                                                                                                                                                                          & herb           , jackie chan    , barry sanders  , sanders        , jackie         , chan           , bruce lee      , tim allen      , lawrence kazdan, john williams  , spielberg      , george lucas   \\\\\n",
       "\t cv005\\_29443.txt                                                                                                                                                                                                      & raoul peck      , lumumba         , patrice lumumba , eriq ebouaney   , helmer peck     , peck            , pascal bonitzer , patrice         , joseph kasa vubu, maka kotto      , moise tschombe  , pascal nzonzi   \\\\\n",
       "\\end{tabular}\n"
      ],
      "text/markdown": [
       "\n",
       "Files | Matches | \n",
       "|---|---|---|---|---|---|\n",
       "| cv000_29590.txt                                                                                                                                                                                                                                                                                                                                                                                                                                                                                                                                                                       | alan moore         , eddie campbell     , moore              , campbell           , jack               , michael jackson    , albert             , allen hughes       , peter godley       , robbie coltrane    , frederick abberline, johnny depp        , abberline          , mary kelly         , heather graham     , terry hayes        , rafael yglesias    , steve guttenberg   , tim burton         , marilyn manson     , peter deming       , martin childs      , depp               , ians holm          , joe gould          , richardson         , graham              | \n",
       "| cv001_18431.txt                                                                                                                                                                                                                                                                                                                                                                                                                | matthew broderick       , reese witherspoon       , george washington carver, tracy flick             , paul                    , max fischer             , bill murray             , broderick               , witherspoon             , jessica campbell        , tammy                   , rooney                  , campbell                , alexander payne         , tracy                   , m                        | \n",
       "| cv002_15918.txt                                                                                                                        | ryan           , hanks          , tom hanks      , joe fox        , meg ryan       , kathleen kelley, fox            , kelley          | \n",
       "| cv003_11664.txt                                                                                                                                                                                                                                                                                                                                                                                                              | john williams   , steven spielberg, spielberg       , williams        , martin brody    , roy scheider    , larry vaughn    , murray hamilton , brody           , matt hooper     , richard dreyfuss, hooper          , vaughn          , quint           , robert shaw     , hitchcock       , scheider        , dreyfuss        , shaw            , robert redford  , paul newman     , duddy kravitz   , ahab             | \n",
       "| cv004_11636.txt                                                                                                                                                                                            | herb           , jackie chan    , barry sanders  , sanders        , jackie         , chan           , bruce lee      , tim allen      , lawrence kazdan, john williams  , spielberg      , george lucas    | \n",
       "| cv005_29443.txt                                                                                                                                                                                                        | raoul peck      , lumumba         , patrice lumumba , eriq ebouaney   , helmer peck     , peck            , pascal bonitzer , patrice         , joseph kasa vubu, maka kotto      , moise tschombe  , pascal nzonzi    | \n",
       "\n",
       "\n"
      ],
      "text/plain": [
       "  Files          \n",
       "1 cv000_29590.txt\n",
       "2 cv001_18431.txt\n",
       "3 cv002_15918.txt\n",
       "4 cv003_11664.txt\n",
       "5 cv004_11636.txt\n",
       "6 cv005_29443.txt\n",
       "  Matches                                                                                                                                                                                                                                                                                                                                                                                                                                                                                                                                                                              \n",
       "1 alan moore         , eddie campbell     , moore              , campbell           , jack               , michael jackson    , albert             , allen hughes       , peter godley       , robbie coltrane    , frederick abberline, johnny depp        , abberline          , mary kelly         , heather graham     , terry hayes        , rafael yglesias    , steve guttenberg   , tim burton         , marilyn manson     , peter deming       , martin childs      , depp               , ians holm          , joe gould          , richardson         , graham             \n",
       "2 matthew broderick       , reese witherspoon       , george washington carver, tracy flick             , paul                    , max fischer             , bill murray             , broderick               , witherspoon             , jessica campbell        , tammy                   , rooney                  , campbell                , alexander payne         , tracy                   , m                                                                                                                                                                              \n",
       "3 ryan           , hanks          , tom hanks      , joe fox        , meg ryan       , kathleen kelley, fox            , kelley                                                                                                                                                                                                                                                                                                                                                                                                                                                        \n",
       "4 john williams   , steven spielberg, spielberg       , williams        , martin brody    , roy scheider    , larry vaughn    , murray hamilton , brody           , matt hooper     , richard dreyfuss, hooper          , vaughn          , quint           , robert shaw     , hitchcock       , scheider        , dreyfuss        , shaw            , robert redford  , paul newman     , duddy kravitz   , ahab                                                                                                                                                                     \n",
       "5 herb           , jackie chan    , barry sanders  , sanders        , jackie         , chan           , bruce lee      , tim allen      , lawrence kazdan, john williams  , spielberg      , george lucas                                                                                                                                                                                                                                                                                                                                                                              \n",
       "6 raoul peck      , lumumba         , patrice lumumba , eriq ebouaney   , helmer peck     , peck            , pascal bonitzer , patrice         , joseph kasa vubu, maka kotto      , moise tschombe  , pascal nzonzi                                                                                                                                                                                                                                                                                                                                                                  "
      ]
     },
     "metadata": {},
     "output_type": "display_data"
    }
   ],
   "source": [
    "goldStandard = read.table(file = \"goldStandard.csv\", quote = \"\", na.strings=c(\"\"),\n",
    "                          colClasses=\"character\", sep=\";\")\n",
    "allMatchesGold = mergeGoldStandardInLists(goldStandard)\n",
    "head(allMatchesGold)"
   ]
  },
  {
   "cell_type": "code",
   "execution_count": 20,
   "metadata": {},
   "outputs": [
    {
     "data": {
      "text/html": [
       "<table>\n",
       "<thead><tr><th scope=col>Precision</th><th scope=col>Recall</th><th scope=col>Fmeasure</th></tr></thead>\n",
       "<tbody>\n",
       "\t<tr><td>0.7846154 </td><td>0.01909683</td><td>0.03728615</td></tr>\n",
       "</tbody>\n",
       "</table>\n"
      ],
      "text/latex": [
       "\\begin{tabular}{r|lll}\n",
       " Precision & Recall & Fmeasure\\\\\n",
       "\\hline\n",
       "\t 0.7846154  & 0.01909683 & 0.03728615\\\\\n",
       "\\end{tabular}\n"
      ],
      "text/markdown": [
       "\n",
       "Precision | Recall | Fmeasure | \n",
       "|---|\n",
       "| 0.7846154  | 0.01909683 | 0.03728615 | \n",
       "\n",
       "\n"
      ],
      "text/plain": [
       "  Precision Recall     Fmeasure  \n",
       "1 0.7846154 0.01909683 0.03728615"
      ]
     },
     "metadata": {},
     "output_type": "display_data"
    }
   ],
   "source": [
    "metrics = calculateMetrics(allMatchesNew, allMatchesGold)\n",
    "metrics"
   ]
  },
  {
   "cell_type": "markdown",
   "metadata": {},
   "source": [
    "### The precision has decreased a bit compared to the benchmark of 0.79 stablished by some patterns given to us. In absolut numbers, we have reasonably increased the number of matches with the gold standard. The recall measure has been improved to the 2%. \n",
    "\n",
    "### The new patterns proposed have given us around 250 new results, being director the keyword which more names find, followed by plays and starring. "
   ]
  }
 ],
 "metadata": {
  "kernelspec": {
   "display_name": "R",
   "language": "R",
   "name": "ir"
  },
  "language_info": {
   "codemirror_mode": "r",
   "file_extension": ".r",
   "mimetype": "text/x-r-source",
   "name": "R",
   "pygments_lexer": "r",
   "version": "3.5.1"
  }
 },
 "nbformat": 4,
 "nbformat_minor": 2
}
